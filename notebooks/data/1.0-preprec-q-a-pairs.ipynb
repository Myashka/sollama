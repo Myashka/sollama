{
 "cells": [
  {
   "attachments": {},
   "cell_type": "markdown",
   "metadata": {},
   "source": [
    "# Preprocessing of question-answering pairs\n",
    "\n",
    "## Description\n",
    "The the scores distributions in different filtering ways, output json file at the end.\n",
    "\n",
    "## Tasks\n",
    "\n",
    "1. Check answers count for each question\n",
    "\n",
    "2. Filter answers with blocks of code\n",
    "\n",
    "3. Check answers count for each question again\n",
    "\n",
    "4. Score distributions and filter questions with less than 3 answers\n",
    "\n",
    "5. Score distribution\n",
    "\n",
    "6. JSON output"
   ]
  },
  {
   "cell_type": "code",
   "execution_count": 25,
   "metadata": {},
   "outputs": [],
   "source": [
    "import pandas as pd\n",
    "from bs4 import BeautifulSoup\n",
    "from os.path import join as opj\n",
    "import plotly.figure_factory as ff\n",
    "import numpy as np\n",
    "from sklearn import preprocessing\n",
    "import seaborn as sns"
   ]
  },
  {
   "cell_type": "code",
   "execution_count": 26,
   "metadata": {},
   "outputs": [],
   "source": [
    "pd.set_option(\"display.max_colwidth\", None)"
   ]
  },
  {
   "cell_type": "code",
   "execution_count": 27,
   "metadata": {},
   "outputs": [],
   "source": [
    "data_path = r'D:\\CQA_RLHF\\data\\interim'"
   ]
  },
  {
   "cell_type": "code",
   "execution_count": 28,
   "metadata": {},
   "outputs": [],
   "source": [
    "q_a_df = pd.read_csv(opj(data_path, 'question_answers.csv'))"
   ]
  },
  {
   "cell_type": "code",
   "execution_count": 29,
   "metadata": {},
   "outputs": [],
   "source": [
    "q_a_df['A_Score_div_views'] = q_a_df.A_Score / q_a_df.ViewCount\n",
    "q_a_df['A_Score_div_n_ans'] = q_a_df.A_Score / q_a_df.AnswerCount"
   ]
  },
  {
   "attachments": {},
   "cell_type": "markdown",
   "metadata": {},
   "source": [
    "## Count of the answers for each questions before filtering"
   ]
  },
  {
   "cell_type": "code",
   "execution_count": 5,
   "metadata": {},
   "outputs": [
    {
     "name": "stdout",
     "output_type": "stream",
     "text": [
      "68.68% of questions have only one answer.\n"
     ]
    }
   ],
   "source": [
    "print(\n",
    "    f'{round(sum(q_a_df[\"Q_Id\"].value_counts() == 1) / len(q_a_df.Q_Id.unique()) * 100, 2)}% of questions have only one answer.'\n",
    ")"
   ]
  },
  {
   "attachments": {},
   "cell_type": "markdown",
   "metadata": {},
   "source": [
    "Статистики Score'ов для ответов без кода"
   ]
  },
  {
   "cell_type": "code",
   "execution_count": 49,
   "metadata": {},
   "outputs": [
    {
     "name": "stdout",
     "output_type": "stream",
     "text": [
      "             A_Score  A_Score_div_views  A_Score_div_n_ans\n",
      "count  180737.000000      180737.000000      180737.000000\n",
      "mean        4.487786           0.004122           1.259866\n",
      "std        31.380434           0.011240           4.799685\n",
      "min       -42.000000          -0.095238         -10.000000\n",
      "25%         0.000000           0.000000           0.000000\n",
      "50%         1.000000           0.000210           0.333333\n",
      "75%         2.000000           0.002457           1.000000\n",
      "max      4870.000000           0.250000         589.000000\n"
     ]
    }
   ],
   "source": [
    "print(q_a_df[['A_Score', 'A_Score_div_views', 'A_Score_div_n_ans']].describe())"
   ]
  },
  {
   "attachments": {},
   "cell_type": "markdown",
   "metadata": {},
   "source": [
    "## Answers without blocks of code"
   ]
  },
  {
   "cell_type": "code",
   "execution_count": 30,
   "metadata": {},
   "outputs": [],
   "source": [
    "def filter_column(df, column_name, text_to_filter, regex=False):\n",
    "    before_filtering = len(df)\n",
    "    df = df[\n",
    "        ~df[f\"{column_name}\"].str.contains(f\"{text_to_filter}\", na=False, regex=regex)\n",
    "    ]\n",
    "    after_filtering = len(df)\n",
    "    print(f\"Deleted {before_filtering-after_filtering} rows\")\n",
    "    return df"
   ]
  },
  {
   "cell_type": "code",
   "execution_count": 31,
   "metadata": {},
   "outputs": [
    {
     "name": "stdout",
     "output_type": "stream",
     "text": [
      "Deleted 114884 rows\n"
     ]
    }
   ],
   "source": [
    "q_a_df_no_code = filter_column(q_a_df, 'A_Body', \"</code></pre>\")"
   ]
  },
  {
   "cell_type": "code",
   "execution_count": 8,
   "metadata": {},
   "outputs": [
    {
     "name": "stdout",
     "output_type": "stream",
     "text": [
      "82.17% of questions have only one answer, answers without blocks of code.\n"
     ]
    }
   ],
   "source": [
    "print(\n",
    "    f'{round(sum(q_a_df_no_code[\"Q_Id\"].value_counts() == 1) / len(q_a_df_no_code.Q_Id.unique()) * 100, 2)}% of questions have only one answer, answers without blocks of code.'\n",
    ")"
   ]
  },
  {
   "attachments": {},
   "cell_type": "markdown",
   "metadata": {},
   "source": [
    "Статистики Score'ов для ответов без кода"
   ]
  },
  {
   "cell_type": "code",
   "execution_count": 53,
   "metadata": {},
   "outputs": [
    {
     "name": "stdout",
     "output_type": "stream",
     "text": [
      "            A_Score  A_Score_div_views  A_Score_div_n_ans\n",
      "count  65853.000000       65853.000000       65853.000000\n",
      "mean       2.657935           0.003111           0.939361\n",
      "std       14.927702           0.008936           3.207656\n",
      "min      -42.000000          -0.095238         -10.000000\n",
      "25%        0.000000           0.000000           0.000000\n",
      "50%        1.000000           0.000111           0.250000\n",
      "75%        2.000000           0.002110           1.000000\n",
      "max     1147.000000           0.200000         163.857143\n"
     ]
    }
   ],
   "source": [
    "print(q_a_df_no_code[['A_Score', 'A_Score_div_views', 'A_Score_div_n_ans']].describe())"
   ]
  },
  {
   "attachments": {},
   "cell_type": "markdown",
   "metadata": {},
   "source": [
    "Распределение кол-ва ответов без кода на вопросы"
   ]
  },
  {
   "cell_type": "code",
   "execution_count": 32,
   "metadata": {},
   "outputs": [
    {
     "data": {
      "text/plain": [
       "<AxesSubplot:>"
      ]
     },
     "execution_count": 32,
     "metadata": {},
     "output_type": "execute_result"
    },
    {
     "data": {
      "image/png": "[encoded data removed]",
      "text/plain": [
       "<Figure size 640x480 with 2 Axes>"
      ]
     },
     "metadata": {},
     "output_type": "display_data"
    }
   ],
   "source": [
    "ax = q_a_df_no_code.Q_Id.value_counts().hist(bins=10)\n",
    "q_a_df_no_code.Q_Id.value_counts().plot(kind='kde', ax=ax, secondary_y=True)"
   ]
  },
  {
   "attachments": {},
   "cell_type": "markdown",
   "metadata": {},
   "source": [
    "### Count of answers to each question"
   ]
  },
  {
   "attachments": {},
   "cell_type": "markdown",
   "metadata": {},
   "source": [
    "Match for each questions in a row count of anaswers"
   ]
  },
  {
   "cell_type": "code",
   "execution_count": 33,
   "metadata": {},
   "outputs": [],
   "source": [
    "q_a_df_no_code['count_available_anaswers'] = q_a_df_no_code['Q_Id'].map(q_a_df_no_code['Q_Id'].value_counts())"
   ]
  },
  {
   "cell_type": "code",
   "execution_count": 38,
   "metadata": {},
   "outputs": [
    {
     "name": "stdout",
     "output_type": "stream",
     "text": [
      "1 answer available: 42316\n",
      "More than 1 answer available: 23537\n"
     ]
    }
   ],
   "source": [
    "print('1 answer available:', len(q_a_df_no_code.loc[q_a_df_no_code['count_available_anaswers'] == 1]))\n",
    "print('More than 1 answer available:', len(q_a_df_no_code.loc[q_a_df_no_code['count_available_anaswers'] != 1]))"
   ]
  },
  {
   "attachments": {},
   "cell_type": "markdown",
   "metadata": {},
   "source": [
    "### Scale answer score for training regression problem\n",
    "\n",
    "#### Ideas\n",
    "\n",
    "1. Filter outliers, MinMax(MaxAbs) scale for filtered data, add outliers with score 1(-1), accepted answers scores equal to 1\n",
    "\n",
    "2. Scale separatly positives and negatives scores (MaxAbs/MinMax)"
   ]
  },
  {
   "cell_type": "code",
   "execution_count": 57,
   "metadata": {},
   "outputs": [
    {
     "name": "stdout",
     "output_type": "stream",
     "text": [
      "            A_Score  A_Score_div_views  A_Score_div_n_ans\n",
      "count  65853.000000       65853.000000       65853.000000\n",
      "mean       2.657935           0.003111           0.939361\n",
      "std       14.927702           0.008936           3.207656\n",
      "min      -42.000000          -0.095238         -10.000000\n",
      "25%        0.000000           0.000000           0.000000\n",
      "50%        1.000000           0.000111           0.250000\n",
      "75%        2.000000           0.002110           1.000000\n",
      "max     1147.000000           0.200000         163.857143\n"
     ]
    }
   ],
   "source": [
    "print(q_a_df_no_code[['A_Score', 'A_Score_div_views', 'A_Score_div_n_ans']].describe())"
   ]
  },
  {
   "cell_type": "code",
   "execution_count": 39,
   "metadata": {},
   "outputs": [],
   "source": [
    "m_m_scaler = preprocessing.MinMaxScaler()\n",
    "m_a_scaler = preprocessing.MaxAbsScaler()"
   ]
  },
  {
   "attachments": {},
   "cell_type": "markdown",
   "metadata": {},
   "source": [
    "##### Transform without outliers"
   ]
  },
  {
   "attachments": {},
   "cell_type": "markdown",
   "metadata": {},
   "source": [
    "Фильтрация выбросов"
   ]
  },
  {
   "cell_type": "code",
   "execution_count": 22,
   "metadata": {},
   "outputs": [],
   "source": [
    "def filter_outliers_iqr(data, column):\n",
    "    q1, q3 = data[column].quantile([0.15, 0.75])\n",
    "    iqr = q3 - q1\n",
    "    lower_bound = q1 - (1.5 * iqr)\n",
    "    upper_bound = q3 + (1.5 * iqr)\n",
    "    return (\n",
    "        data[column][(data[column] > lower_bound) & (data[column] < upper_bound)],\n",
    "        data[column][data[column] <= lower_bound],\n",
    "        data[column][data[column] >= upper_bound],\n",
    "    )\n",
    "\n",
    "\n",
    "def filter_and_transform(data, column, scaler, new_col_name):\n",
    "    filtered_data, lower_outliers, upper_outliers = filter_outliers_iqr(data, column)\n",
    "\n",
    "    filtered_scaled_data = scaler.fit_transform(filtered_data.values.reshape(-1, 1)).reshape(1, -1)[0]\n",
    "    filtered_scaled_data = pd.Series(filtered_scaled_data, index=filtered_data.index)\n",
    "    lower_outliers = lower_outliers.replace(to_replace=lower_outliers.values, value=-1)\n",
    "    upper_outliers = upper_outliers.replace(to_replace=upper_outliers.values, value=1)\n",
    "\n",
    "    transformed_series = pd.concat(\n",
    "        [filtered_scaled_data, lower_outliers, upper_outliers], axis=0\n",
    "    )\n",
    "    transformed_series.name = new_col_name\n",
    "\n",
    "    return data.join(transformed_series, how=\"left\", on=data.index)"
   ]
  },
  {
   "cell_type": "code",
   "execution_count": 23,
   "metadata": {},
   "outputs": [],
   "source": [
    "q_a_df_no_code = filter_and_transform(q_a_df_no_code, 'A_Score_div_n_ans', m_a_scaler, 'A_Score_div_n_ans_max_abs')\n",
    "q_a_df_no_code = filter_and_transform(q_a_df_no_code, 'A_Score_div_n_ans', m_m_scaler, 'A_Score_div_n_ans_min_max')\n",
    "\n",
    "q_a_df_no_code = filter_and_transform(q_a_df_no_code, 'A_Score_div_views', m_a_scaler, 'A_Score_div_views_max_abs')\n",
    "q_a_df_no_code = filter_and_transform(q_a_df_no_code, 'A_Score_div_views', m_m_scaler, 'A_Score_div_views_min_max')"
   ]
  },
  {
   "attachments": {},
   "cell_type": "markdown",
   "metadata": {},
   "source": [
    "Изменить Score Accepted Asnwers to 1"
   ]
  },
  {
   "cell_type": "code",
   "execution_count": 11,
   "metadata": {},
   "outputs": [],
   "source": [
    "accepted_answers_indexes = q_a_df_no_code[\n",
    "    q_a_df_no_code[\"A_Id\"].isin(q_a_df_no_code[\"AcceptedAnswerId\"].unique())\n",
    "].index"
   ]
  },
  {
   "cell_type": "code",
   "execution_count": null,
   "metadata": {},
   "outputs": [],
   "source": [
    "q_a_df_no_code.loc[\n",
    "    accepted_answers_indexes, [\"A_Score_div_n_ans_max_abs\", \"A_Score_div_views_max_abs\"]\n",
    "] = 1"
   ]
  },
  {
   "attachments": {},
   "cell_type": "markdown",
   "metadata": {},
   "source": [
    "Просмотр KDE"
   ]
  },
  {
   "cell_type": "code",
   "execution_count": 24,
   "metadata": {},
   "outputs": [
    {
     "data": {
      "text/plain": [
       "<AxesSubplot:ylabel='Density'>"
      ]
     },
     "execution_count": 24,
     "metadata": {},
     "output_type": "execute_result"
    },
    {
     "data": {
      "image/png": "[encoded data removed]",
      "text/plain": [
       "<Figure size 640x480 with 1 Axes>"
      ]
     },
     "metadata": {},
     "output_type": "display_data"
    }
   ],
   "source": [
    "sns.kdeplot(\n",
    "    data=[\n",
    "        q_a_df_no_code[\"A_Score_div_n_ans_max_abs\"],\n",
    "        q_a_df_no_code[\"A_Score_div_views_max_abs\"],\n",
    "        q_a_df_no_code[\"A_Score_div_n_ans_min_max\"],\n",
    "        q_a_df_no_code[\"A_Score_div_views_min_max\"],\n",
    "    ],\n",
    ")"
   ]
  },
  {
   "attachments": {},
   "cell_type": "markdown",
   "metadata": {},
   "source": [
    "##### Separate transformations"
   ]
  },
  {
   "cell_type": "code",
   "execution_count": 61,
   "metadata": {},
   "outputs": [],
   "source": [
    "def filter_neg_pos_transform(data, column, new_col_name, filter=True):\n",
    "    if filter:\n",
    "        filtered_data, lower_outliers, upper_outliers = filter_outliers_iqr(data, column)\n",
    "        lower_outliers = lower_outliers.replace(to_replace=lower_outliers.values, value=-1)\n",
    "        upper_outliers = upper_outliers.replace(to_replace=upper_outliers.values, value=1)\n",
    "\n",
    "    else:\n",
    "        filtered_data = data[column]\n",
    "\n",
    "\n",
    "    negative_scaled_data = filtered_data[filtered_data < 0].transform(lambda x: x / np.abs(x.min()))\n",
    "    positive_scaled_data = filtered_data[filtered_data >= 0].transform(lambda x: x / np.abs(x.max()))\n",
    "\n",
    "    if filter:\n",
    "        transformed_series = pd.concat(\n",
    "        [positive_scaled_data, negative_scaled_data, lower_outliers, upper_outliers], axis=0\n",
    "    )\n",
    "    else:\n",
    "        transformed_series = pd.concat([positive_scaled_data, negative_scaled_data], axis=0)\n",
    "\n",
    "    transformed_series.name = new_col_name\n",
    "\n",
    "    return data.join(transformed_series, how=\"left\", on=data.index)"
   ]
  },
  {
   "cell_type": "code",
   "execution_count": 62,
   "metadata": {},
   "outputs": [],
   "source": [
    "q_a_df_no_code = filter_neg_pos_transform(q_a_df_no_code, 'A_Score_div_n_ans', 'A_Score_div_n_ans_sep')\n",
    "\n",
    "q_a_df_no_code = filter_neg_pos_transform(q_a_df_no_code, 'A_Score_div_views', 'A_Score_div_views_sep')"
   ]
  },
  {
   "cell_type": "code",
   "execution_count": 23,
   "metadata": {},
   "outputs": [],
   "source": [
    "accepted_answers_indexes = q_a_df_no_code[\n",
    "    q_a_df_no_code[\"A_Id\"].isin(q_a_df_no_code[\"AcceptedAnswerId\"].unique())\n",
    "].index\n",
    "\n",
    "q_a_df_no_code.loc[\n",
    "    accepted_answers_indexes, [\"A_Score_div_views_sep\", \"A_Score_div_n_ans_sep\"]\n",
    "] = 1"
   ]
  },
  {
   "cell_type": "code",
   "execution_count": 63,
   "metadata": {},
   "outputs": [
    {
     "data": {
      "text/plain": [
       "<AxesSubplot:ylabel='Density'>"
      ]
     },
     "execution_count": 63,
     "metadata": {},
     "output_type": "execute_result"
    },
    {
     "data": {
      "image/png": "[encoded data removed]",
      "text/plain": [
       "<Figure size 640x480 with 1 Axes>"
      ]
     },
     "metadata": {},
     "output_type": "display_data"
    }
   ],
   "source": [
    "sns.kdeplot(\n",
    "    data=[\n",
    "        # q_a_df_no_code[\"A_Score_div_n_ans_max_abs\"],\n",
    "        # q_a_df_no_code[\"A_Score_div_views_max_abs\"],\n",
    "        # q_a_df_no_code[\"A_Score_div_n_ans_min_max\"],\n",
    "        # q_a_df_no_code[\"A_Score_div_views_min_max\"],\n",
    "        q_a_df_no_code[\"A_Score_div_n_ans_sep\"],\n",
    "        q_a_df_no_code[\"A_Score_div_views_sep\"],\n",
    "    ],\n",
    ")"
   ]
  },
  {
   "attachments": {},
   "cell_type": "markdown",
   "metadata": {},
   "source": [
    "## Use $log_2$ for scores"
   ]
  },
  {
   "cell_type": "code",
   "execution_count": 23,
   "metadata": {},
   "outputs": [],
   "source": [
    "import math"
   ]
  },
  {
   "cell_type": "code",
   "execution_count": 35,
   "metadata": {},
   "outputs": [],
   "source": [
    "accepted_answers_indexes = q_a_df_no_code[\n",
    "    q_a_df_no_code[\"A_Id\"].isin(q_a_df_no_code[\"AcceptedAnswerId\"].unique())\n",
    "].index"
   ]
  },
  {
   "cell_type": "code",
   "execution_count": 53,
   "metadata": {},
   "outputs": [
    {
     "data": {
      "text/plain": [
       "0.0"
      ]
     },
     "execution_count": 53,
     "metadata": {},
     "output_type": "execute_result"
    }
   ],
   "source": [
    "math.log2(1)"
   ]
  },
  {
   "attachments": {},
   "cell_type": "markdown",
   "metadata": {},
   "source": [
    "## Saving data as JSON"
   ]
  },
  {
   "cell_type": "code",
   "execution_count": 75,
   "metadata": {},
   "outputs": [],
   "source": [
    "log_scores = []\n",
    "for i in q_a_df_no_code['A_Score']:\n",
    "    if i >= 0:\n",
    "        log_scores.append(round(np.log(i+1)))\n",
    "    else:\n",
    "        log_scores.append(-1)"
   ]
  },
  {
   "cell_type": "code",
   "execution_count": 76,
   "metadata": {},
   "outputs": [
    {
     "data": {
      "text/plain": [
       "65853"
      ]
     },
     "execution_count": 76,
     "metadata": {},
     "output_type": "execute_result"
    }
   ],
   "source": [
    "len(log_scores)"
   ]
  },
  {
   "cell_type": "code",
   "execution_count": 78,
   "metadata": {},
   "outputs": [],
   "source": [
    "q_a_df_no_code['Log_scores'] = log_scores"
   ]
  },
  {
   "cell_type": "code",
   "execution_count": 84,
   "metadata": {},
   "outputs": [],
   "source": [
    "q_a_df_no_code['Log_scores'] = q_a_df_no_code['Log_scores'] + q_a_df_no_code['AcceptedAnswer']"
   ]
  },
  {
   "cell_type": "code",
   "execution_count": 85,
   "metadata": {},
   "outputs": [],
   "source": [
    "import json\n",
    "import re"
   ]
  },
  {
   "cell_type": "code",
   "execution_count": 86,
   "metadata": {},
   "outputs": [],
   "source": [
    "save_path = r'D:\\CQA_RLHF\\data\\processed\\log_score'"
   ]
  },
  {
   "cell_type": "code",
   "execution_count": 50,
   "metadata": {},
   "outputs": [],
   "source": [
    "q_a_df_no_code['AcceptedAnswer'] = q_a_df_no_code['AcceptedAnswerId'] == q_a_df_no_code['A_Id']"
   ]
  },
  {
   "cell_type": "code",
   "execution_count": 88,
   "metadata": {},
   "outputs": [],
   "source": [
    "# data = q_a_df_no_code[['Q_CreationDate', 'Q_Title', 'Q_Body', 'A_Body', 'A_Score_div_n_ans_sep', 'AcceptedAnswer', 'count_available_anaswers']]\n",
    "data = q_a_df_no_code[['Q_CreationDate', 'Q_Title', 'Q_Body', 'A_Body', 'Log_scores', 'AcceptedAnswer', 'count_available_anaswers']]"
   ]
  },
  {
   "cell_type": "code",
   "execution_count": 89,
   "metadata": {},
   "outputs": [
    {
     "name": "stderr",
     "output_type": "stream",
     "text": [
      "c:\\ProgramData\\Anaconda3\\lib\\site-packages\\bs4\\__init__.py:435: MarkupResemblesLocatorWarning: The input looks more like a filename than markup. You may want to open this file and pass the filehandle into Beautiful Soup.\n",
      "  warnings.warn(\n"
     ]
    }
   ],
   "source": [
    "data['Q_Title'] = data['Q_Title'].apply(lambda x: BeautifulSoup(x, 'html.parser').get_text().strip())\n",
    "data['Q_Body'] = data['Q_Body'].apply(lambda x: BeautifulSoup(x, 'html.parser').get_text().strip())\n",
    "data['A_Body'] = data['A_Body'].apply(lambda x: BeautifulSoup(x, 'html.parser').get_text().strip())"
   ]
  },
  {
   "cell_type": "code",
   "execution_count": 94,
   "metadata": {},
   "outputs": [],
   "source": [
    "data = data.rename(\n",
    "    columns={\n",
    "        \"Q_Title\": \"Title\",\n",
    "        \"Q_Body\": \"Question\",\n",
    "        \"A_Body\": \"Answer\",\n",
    "        \"Log_scores\": \"Score\",\n",
    "        \"AcceptedAnswer\": \"Is_accepted\",\n",
    "        \"count_available_anaswers\": \"N_answers\",\n",
    "    }\n",
    ")"
   ]
  },
  {
   "cell_type": "code",
   "execution_count": 97,
   "metadata": {},
   "outputs": [],
   "source": [
    "data = data.sort_values('Q_CreationDate', ascending=True)"
   ]
  },
  {
   "cell_type": "code",
   "execution_count": 98,
   "metadata": {},
   "outputs": [],
   "source": [
    "data.to_csv(r'D:\\CQA_RLHF\\data\\processed\\log_score\\1.0-all-data-log_score.csv', index=False)"
   ]
  },
  {
   "cell_type": "code",
   "execution_count": 99,
   "metadata": {},
   "outputs": [],
   "source": [
    "from sklearn.model_selection import train_test_split"
   ]
  },
  {
   "cell_type": "code",
   "execution_count": 33,
   "metadata": {},
   "outputs": [],
   "source": [
    "train_df = data[:-3000]\n",
    "val_df = data[-3000:-2000]\n",
    "test_df = data[-2000:]\n",
    "# Convert each set to a dictionary\n",
    "train_dict = train_df.to_dict(orient='records')\n",
    "val_dict = val_df.to_dict(orient='records')\n",
    "test_dict = test_df.to_dict(orient='records')\n",
    "\n",
    "# Combine the dictionaries into a list of dictionaries\n",
    "data_to_save = {'train': train_dict, 'val': val_dict, 'test': test_dict}\n",
    "\n",
    "# Save the list of dictionaries to a JSON file\n",
    "with open(opj(save_path, '1.0-data-div-ans-sep.json'), 'w') as f:\n",
    "    json.dump(data_to_save, f)\n"
   ]
  },
  {
   "cell_type": "code",
   "execution_count": 68,
   "metadata": {},
   "outputs": [],
   "source": [
    "with open(opj(save_path, '1.0-data-div-ans-sep.json'), 'r') as f:\n",
    "    pairs = json.load(f)"
   ]
  }
 ],
 "metadata": {
  "kernelspec": {
   "display_name": "base",
   "language": "python",
   "name": "python3"
  },
  "language_info": {
   "codemirror_mode": {
    "name": "ipython",
    "version": 3
   },
   "file_extension": ".py",
   "mimetype": "text/x-python",
   "name": "python",
   "nbconvert_exporter": "python",
   "pygments_lexer": "ipython3",
   "version": "3.9.12"
  },
  "orig_nbformat": 4,
  "vscode": {
   "interpreter": {
    "hash": "ad2bdc8ecc057115af97d19610ffacc2b4e99fae6737bb82f5d7fb13d2f2c186"
   }
  }
 },
 "nbformat": 4,
 "nbformat_minor": 2
}
