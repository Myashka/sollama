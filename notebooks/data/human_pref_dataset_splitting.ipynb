{
 "cells": [
  {
   "cell_type": "code",
   "execution_count": 1,
   "metadata": {},
   "outputs": [
    {
     "name": "stderr",
     "output_type": "stream",
     "text": [
      "/home/st-gorbatovski/.conda/envs/gorbatovski_env/lib/python3.10/site-packages/tqdm/auto.py:21: TqdmWarning: IProgress not found. Please update jupyter and ipywidgets. See https://ipywidgets.readthedocs.io/en/stable/user_install.html\n",
      "  from .autonotebook import tqdm as notebook_tqdm\n"
     ]
    },
    {
     "name": "stdout",
     "output_type": "stream",
     "text": [
      "\n",
      "===================================BUG REPORT===================================\n",
      "Welcome to bitsandbytes. For bug reports, please run\n",
      "\n",
      "python -m bitsandbytes\n",
      "\n",
      " and submit this information together with your error trace to: https://github.com/TimDettmers/bitsandbytes/issues\n",
      "================================================================================\n",
      "bin /home/st-gorbatovski/.conda/envs/gorbatovski_env/lib/python3.10/site-packages/bitsandbytes/libbitsandbytes_cuda117.so\n",
      "CUDA_SETUP: WARNING! libcudart.so not found in any environmental path. Searching in backup paths...\n",
      "CUDA SETUP: CUDA runtime path found: /usr/local/cuda/lib64/libcudart.so.11.0\n",
      "CUDA SETUP: Highest compute capability among GPUs detected: 7.5\n",
      "CUDA SETUP: Detected CUDA version 117\n",
      "CUDA SETUP: Loading binary /home/st-gorbatovski/.conda/envs/gorbatovski_env/lib/python3.10/site-packages/bitsandbytes/libbitsandbytes_cuda117.so...\n"
     ]
    },
    {
     "name": "stderr",
     "output_type": "stream",
     "text": [
      "/home/st-gorbatovski/.conda/envs/gorbatovski_env/lib/python3.10/site-packages/bitsandbytes/cuda_setup/main.py:149: UserWarning: /home/st-gorbatovski/.conda/envs/gorbatovski_env did not contain ['libcudart.so', 'libcudart.so.11.0', 'libcudart.so.12.0'] as expected! Searching further paths...\n",
      "  warn(msg)\n",
      "/home/st-gorbatovski/.conda/envs/gorbatovski_env/lib/python3.10/site-packages/bitsandbytes/cuda_setup/main.py:149: UserWarning: WARNING: The following directories listed in your path were found to be non-existent: {PosixPath('/var/lib/nvidia-mig-manager/checkpoint.json')}\n",
      "  warn(msg)\n",
      "/home/st-gorbatovski/.conda/envs/gorbatovski_env/lib/python3.10/site-packages/bitsandbytes/cuda_setup/main.py:149: UserWarning: WARNING: The following directories listed in your path were found to be non-existent: {PosixPath('vs/workbench/api/node/extensionHostProcess')}\n",
      "  warn(msg)\n",
      "/home/st-gorbatovski/.conda/envs/gorbatovski_env/lib/python3.10/site-packages/bitsandbytes/cuda_setup/main.py:149: UserWarning: WARNING: The following directories listed in your path were found to be non-existent: {PosixPath('module'), PosixPath('//matplotlib_inline.backend_inline')}\n",
      "  warn(msg)\n",
      "/home/st-gorbatovski/.conda/envs/gorbatovski_env/lib/python3.10/site-packages/bitsandbytes/cuda_setup/main.py:149: UserWarning: Found duplicate ['libcudart.so', 'libcudart.so.11.0', 'libcudart.so.12.0'] files: {PosixPath('/usr/local/cuda/lib64/libcudart.so.11.0'), PosixPath('/usr/local/cuda/lib64/libcudart.so')}.. We'll flip a coin and try one of these, in order to fail forward.\n",
      "Either way, this might cause trouble in the future:\n",
      "If you get `CUDA error: invalid device function` errors, the above might be the cause and the solution is to make sure only one ['libcudart.so', 'libcudart.so.11.0', 'libcudart.so.12.0'] in the paths that we search based on your env.\n",
      "  warn(msg)\n"
     ]
    }
   ],
   "source": [
    "import pandas as pd\n",
    "from datasets import load_dataset, combine\n",
    "\n",
    "import sys\n",
    "sys.path.append(\"/home/st-gorbatovski/sollama\")\n",
    "\n",
    "from src.mpnet_reward.data.make_dataset import make_datasets\n",
    "from src.mpnet_reward.utils import set_random_seed"
   ]
  },
  {
   "cell_type": "code",
   "execution_count": 2,
   "metadata": {},
   "outputs": [],
   "source": [
    "set_random_seed(42)"
   ]
  },
  {
   "cell_type": "code",
   "execution_count": 3,
   "metadata": {},
   "outputs": [],
   "source": [
    "from transformers import AutoTokenizer\n",
    "\n",
    "tokenizer = AutoTokenizer.from_pretrained(\"sentence-transformers/multi-qa-mpnet-base-cos-v1\")"
   ]
  },
  {
   "cell_type": "code",
   "execution_count": 4,
   "metadata": {},
   "outputs": [],
   "source": [
    "data_config = {\n",
    "    \"dataset_name\": \"Myashka/SO_Python_basics_QA_human_pref\",\n",
    "    \"max_length_q\": 512,\n",
    "    \"max_length_a\": 256,\n",
    "    \"use_title\": True,\n",
    "    \"val_size\": 500,\n",
    "    \"test_size\": 1000,\n",
    "    \"use_gen\": False,\n",
    "    \"use_par\": True,\n",
    "    \"use_so\": True,\n",
    "    \"num_proc\": 8,\n",
    "    \"so_fix\": 0.15\n",
    "}"
   ]
  },
  {
   "cell_type": "code",
   "execution_count": 5,
   "metadata": {},
   "outputs": [
    {
     "name": "stderr",
     "output_type": "stream",
     "text": [
      "Found cached dataset json (/home/st-gorbatovski/.cache/huggingface/datasets/Myashka___json/Myashka--SO_Python_basics_QA_human_pref-0870bdfdc441eea5/0.0.0/8bb11242116d547c741b2e8a1f18598ffdd40a1d4f2a2872c7a28b697434bc96)\n",
      "100%|██████████| 1/1 [00:00<00:00, 14.41it/s]\n",
      "Loading cached processed dataset at /home/st-gorbatovski/.cache/huggingface/datasets/Myashka___json/Myashka--SO_Python_basics_QA_human_pref-0870bdfdc441eea5/0.0.0/8bb11242116d547c741b2e8a1f18598ffdd40a1d4f2a2872c7a28b697434bc96/cache-0a0547a904deef09_*_of_00008.arrow\n",
      "Loading cached processed dataset at /home/st-gorbatovski/.cache/huggingface/datasets/Myashka___json/Myashka--SO_Python_basics_QA_human_pref-0870bdfdc441eea5/0.0.0/8bb11242116d547c741b2e8a1f18598ffdd40a1d4f2a2872c7a28b697434bc96/cache-c739cf9d2508d519_*_of_00008.arrow\n",
      "Loading cached processed dataset at /home/st-gorbatovski/.cache/huggingface/datasets/Myashka___json/Myashka--SO_Python_basics_QA_human_pref-0870bdfdc441eea5/0.0.0/8bb11242116d547c741b2e8a1f18598ffdd40a1d4f2a2872c7a28b697434bc96/cache-a5b6410907a73b36_*_of_00008.arrow\n",
      "Loading cached processed dataset at /home/st-gorbatovski/.cache/huggingface/datasets/Myashka___json/Myashka--SO_Python_basics_QA_human_pref-0870bdfdc441eea5/0.0.0/8bb11242116d547c741b2e8a1f18598ffdd40a1d4f2a2872c7a28b697434bc96/cache-27b8c8c1ca3812c4_*_of_00008.arrow\n",
      "Loading cached processed dataset at /home/st-gorbatovski/.cache/huggingface/datasets/Myashka___json/Myashka--SO_Python_basics_QA_human_pref-0870bdfdc441eea5/0.0.0/8bb11242116d547c741b2e8a1f18598ffdd40a1d4f2a2872c7a28b697434bc96/cache-13efa8db48933cf7_*_of_00008.arrow\n",
      "Loading cached processed dataset at /home/st-gorbatovski/.cache/huggingface/datasets/Myashka___json/Myashka--SO_Python_basics_QA_human_pref-0870bdfdc441eea5/0.0.0/8bb11242116d547c741b2e8a1f18598ffdd40a1d4f2a2872c7a28b697434bc96/cache-492951c78b875571_*_of_00008.arrow\n",
      "Loading cached split indices for dataset at /home/st-gorbatovski/.cache/huggingface/datasets/Myashka___json/Myashka--SO_Python_basics_QA_human_pref-0870bdfdc441eea5/0.0.0/8bb11242116d547c741b2e8a1f18598ffdd40a1d4f2a2872c7a28b697434bc96/cache-a295f1b251493305.arrow and /home/st-gorbatovski/.cache/huggingface/datasets/Myashka___json/Myashka--SO_Python_basics_QA_human_pref-0870bdfdc441eea5/0.0.0/8bb11242116d547c741b2e8a1f18598ffdd40a1d4f2a2872c7a28b697434bc96/cache-a4b3b637bbd45c43.arrow\n",
      "Loading cached split indices for dataset at /home/st-gorbatovski/.cache/huggingface/datasets/Myashka___json/Myashka--SO_Python_basics_QA_human_pref-0870bdfdc441eea5/0.0.0/8bb11242116d547c741b2e8a1f18598ffdd40a1d4f2a2872c7a28b697434bc96/cache-3451b03045246df6.arrow and /home/st-gorbatovski/.cache/huggingface/datasets/Myashka___json/Myashka--SO_Python_basics_QA_human_pref-0870bdfdc441eea5/0.0.0/8bb11242116d547c741b2e8a1f18598ffdd40a1d4f2a2872c7a28b697434bc96/cache-3694f1c959fd028e.arrow\n"
     ]
    },
    {
     "name": "stdout",
     "output_type": "stream",
     "text": [
      "Statistics for Test Dataset:\n",
      "Total: 1000\n",
      "Generated (k): 0 (0.00%)\n",
      "Paraphrased (k only): 343 (34.30%)\n",
      "Paraphrased (j only): 0 (0.00%)\n",
      "Paraphrased (both j & k): 507 (50.70%)\n",
      "SO (k): 150 (15.00%)\n",
      "SO (j): 493 (49.30%)\n",
      "Total Paraphrased: 850 (85.00%)\n",
      "Total SO: 150 (15.00%)\n",
      "--------------------------------------------------\n"
     ]
    }
   ],
   "source": [
    "test_dataset = make_datasets(tokenizer=tokenizer, **data_config, do_train=False)"
   ]
  },
  {
   "cell_type": "markdown",
   "metadata": {},
   "source": [
    "## Создание набора данных для генерации набора и валидации теста Reward model"
   ]
  },
  {
   "cell_type": "code",
   "execution_count": 9,
   "metadata": {},
   "outputs": [],
   "source": [
    "df = test_dataset.to_pandas()"
   ]
  },
  {
   "cell_type": "code",
   "execution_count": 10,
   "metadata": {},
   "outputs": [
    {
     "name": "stderr",
     "output_type": "stream",
     "text": [
      "Found cached dataset json (/home/st-gorbatovski/.cache/huggingface/datasets/Myashka___json/Myashka--SO-Python_basics_QA-filtered-2023-tanh_score-65cea773c91b5e47/0.0.0/8bb11242116d547c741b2e8a1f18598ffdd40a1d4f2a2872c7a28b697434bc96)\n",
      "100%|██████████| 3/3 [00:00<00:00, 191.05it/s]\n"
     ]
    }
   ],
   "source": [
    "dataset = load_dataset(\"Myashka/SO-Python_basics_QA-filtered-2023-tanh_score\")"
   ]
  },
  {
   "cell_type": "code",
   "execution_count": 11,
   "metadata": {},
   "outputs": [
    {
     "name": "stderr",
     "output_type": "stream",
     "text": [
      "                                                                       \r"
     ]
    }
   ],
   "source": [
    "dataset = combine.concatenate_datasets([dataset['train'],dataset['validation'], dataset['test']]).filter(lambda x: x[\"Q_Id\"] in df['Q_Id'].unique())"
   ]
  },
  {
   "cell_type": "code",
   "execution_count": 13,
   "metadata": {},
   "outputs": [],
   "source": [
    "to_gen_df = dataset.to_pandas().sort_values('log_score', ascending=False).drop_duplicates(subset=[\"Q_Id\"], keep='first').reset_index(drop=True)"
   ]
  },
  {
   "cell_type": "code",
   "execution_count": 14,
   "metadata": {},
   "outputs": [],
   "source": [
    "to_gen_df = to_gen_df.drop(columns=[\"Available Count\"])"
   ]
  },
  {
   "cell_type": "code",
   "execution_count": null,
   "metadata": {},
   "outputs": [],
   "source": [
    "to_gen_df.to_json(\"/home/st-gorbatovski/sollama/data/processed/tanh_score/python_basics/unique_test_to_gen_reward_eval_v2.json\", orient=\"records\")"
   ]
  },
  {
   "cell_type": "code",
   "execution_count": null,
   "metadata": {},
   "outputs": [],
   "source": [
    "pd.read_json(\"/home/st-gorbatovski/sollama/data/processed/tanh_score/python_basics/unique_test_to_gen_reward_eval.json\")"
   ]
  },
  {
   "cell_type": "code",
   "execution_count": null,
   "metadata": {},
   "outputs": [],
   "source": []
  }
 ],
 "metadata": {
  "kernelspec": {
   "display_name": "gorbatovski_env",
   "language": "python",
   "name": "python3"
  },
  "language_info": {
   "codemirror_mode": {
    "name": "ipython",
    "version": 3
   },
   "file_extension": ".py",
   "mimetype": "text/x-python",
   "name": "python",
   "nbconvert_exporter": "python",
   "pygments_lexer": "ipython3",
   "version": "3.10.11"
  },
  "orig_nbformat": 4
 },
 "nbformat": 4,
 "nbformat_minor": 2
}
