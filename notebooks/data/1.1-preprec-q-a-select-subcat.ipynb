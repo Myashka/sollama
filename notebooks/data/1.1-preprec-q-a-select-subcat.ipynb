{
 "cells": [
  {
   "attachments": {},
   "cell_type": "markdown",
   "metadata": {},
   "source": [
    "# Preprocessing of question-answering pairs\n",
    "\n",
    "## Description\n",
    "Try to detect categories at python tag\n",
    "\n",
    "## Tasks\n",
    "\n",
    "1. Update regs to python tag\n",
    "\n",
    "2. Apply LDA to thematic modeling\n",
    "\n",
    "3. Gets datasets"
   ]
  },
  {
   "cell_type": "code",
   "execution_count": 1,
   "metadata": {},
   "outputs": [],
   "source": [
    "import pandas as pd\n",
    "from os.path import join as opj\n",
    "import numpy as np\n",
    "import json\n",
    "import sys\n",
    "sys.path.append(r'D:\\CQA_RLHF')"
   ]
  },
  {
   "cell_type": "code",
   "execution_count": 2,
   "metadata": {},
   "outputs": [],
   "source": [
    "from postclassifier.api_change import API_change\n",
    "from postclassifier.api_usage import API_usage\n",
    "from postclassifier.conceptual import Conceptual\n",
    "from postclassifier.discrepancy import Discrepancy\n",
    "from postclassifier.documentation import Documentation\n",
    "from postclassifier.errors import Errors\n",
    "from postclassifier.review import Review"
   ]
  },
  {
   "cell_type": "code",
   "execution_count": 3,
   "metadata": {},
   "outputs": [],
   "source": [
    "pd.set_option(\"display.max_colwidth\", None)"
   ]
  },
  {
   "cell_type": "code",
   "execution_count": 5,
   "metadata": {},
   "outputs": [],
   "source": [
    "data_path = r'D:\\CQA_RLHF\\data\\processed'"
   ]
  },
  {
   "cell_type": "code",
   "execution_count": 5,
   "metadata": {},
   "outputs": [],
   "source": [
    "q_a_df = pd.read_csv(r'D:\\CQA_RLHF\\data\\processed\\tanh_score\\1.0-all-data-tanh_score.csv')"
   ]
  },
  {
   "cell_type": "code",
   "execution_count": 6,
   "metadata": {},
   "outputs": [],
   "source": [
    "classifiers = [\n",
    "    API_change(),\n",
    "    API_usage(),\n",
    "    Conceptual(),\n",
    "    Discrepancy(),\n",
    "    Documentation(),\n",
    "    Errors(),\n",
    "    Review(),\n",
    "]"
   ]
  },
  {
   "cell_type": "code",
   "execution_count": 7,
   "metadata": {},
   "outputs": [
    {
     "data": {
      "text/html": [
       "<div>\n",
       "<style scoped>\n",
       "    .dataframe tbody tr th:only-of-type {\n",
       "        vertical-align: middle;\n",
       "    }\n",
       "\n",
       "    .dataframe tbody tr th {\n",
       "        vertical-align: top;\n",
       "    }\n",
       "\n",
       "    .dataframe thead th {\n",
       "        text-align: right;\n",
       "    }\n",
       "</style>\n",
       "<table border=\"1\" class=\"dataframe\">\n",
       "  <thead>\n",
       "    <tr style=\"text-align: right;\">\n",
       "      <th></th>\n",
       "      <th>Q_CreationDate</th>\n",
       "      <th>Title</th>\n",
       "      <th>Question</th>\n",
       "      <th>Answer</th>\n",
       "      <th>Score</th>\n",
       "      <th>Is_accepted</th>\n",
       "      <th>N_answers</th>\n",
       "      <th>Q_Id</th>\n",
       "    </tr>\n",
       "  </thead>\n",
       "  <tbody>\n",
       "    <tr>\n",
       "      <th>0</th>\n",
       "      <td>2008-08-02 03:35:55.697</td>\n",
       "      <td>XML Processing in Python</td>\n",
       "      <td>I am about to build a piece of a project that will need to construct and post an XML document to a web service and I'd like to do it in Python, as a means to expand my skills in it.  \\nUnfortunately, whilst I know the XML model fairly well in .NET, I'm uncertain what the pros and cons are of the XML models in Python.  \\nAnyone have experience doing XML processing in Python? Where would you suggest I start? The XML files I'll be building will be fairly simple.</td>\n",
       "      <td>I write a SOAP server that receives XML requests and creates XML responses.  (Unfortunately, it's not my project, so it's closed source, but that's another problem).\\nIt turned out for me that creating (SOAP) XML documents is fairly simple if you have a data structure that \"fits\" the schema.\\nI keep the envelope since the response envelope is (almost) the same as the request envelope.  Then, since my data structure is a (possibly nested) dictionary, I create a string that turns this dictionary into &lt;key&gt;value&lt;/key&gt; items.  \\nThis is a task that recursion makes simple, and I end up with the right structure.  This is all done in python code and is currently fast enough for production use.\\nYou can also (relatively) easily build lists as well, although depending upon your client, you may hit problems unless you give length hints.\\nFor me, this was much simpler, since a dictionary is a much easier way of working than some custom class.  For the books, generating XML is much easier than parsing!</td>\n",
       "      <td>0.201295</td>\n",
       "      <td>False</td>\n",
       "      <td>6</td>\n",
       "      <td>0</td>\n",
       "    </tr>\n",
       "  </tbody>\n",
       "</table>\n",
       "</div>"
      ],
      "text/plain": [
       "            Q_CreationDate                     Title  \\\n",
       "0  2008-08-02 03:35:55.697  XML Processing in Python   \n",
       "\n",
       "                                                                                                                                                                                                                                                                                                                                                                                                                                                                          Question  \\\n",
       "0  I am about to build a piece of a project that will need to construct and post an XML document to a web service and I'd like to do it in Python, as a means to expand my skills in it.  \\nUnfortunately, whilst I know the XML model fairly well in .NET, I'm uncertain what the pros and cons are of the XML models in Python.  \\nAnyone have experience doing XML processing in Python? Where would you suggest I start? The XML files I'll be building will be fairly simple.   \n",
       "\n",
       "                                                                                                                                                                                                                                                                                                                                                                                                                                                                                                                                                                                                                                                                                                                                                                                                                                                                                                                                                                                                                                          Answer  \\\n",
       "0  I write a SOAP server that receives XML requests and creates XML responses.  (Unfortunately, it's not my project, so it's closed source, but that's another problem).\\nIt turned out for me that creating (SOAP) XML documents is fairly simple if you have a data structure that \"fits\" the schema.\\nI keep the envelope since the response envelope is (almost) the same as the request envelope.  Then, since my data structure is a (possibly nested) dictionary, I create a string that turns this dictionary into <key>value</key> items.  \\nThis is a task that recursion makes simple, and I end up with the right structure.  This is all done in python code and is currently fast enough for production use.\\nYou can also (relatively) easily build lists as well, although depending upon your client, you may hit problems unless you give length hints.\\nFor me, this was much simpler, since a dictionary is a much easier way of working than some custom class.  For the books, generating XML is much easier than parsing!   \n",
       "\n",
       "      Score  Is_accepted  N_answers  Q_Id  \n",
       "0  0.201295        False          6     0  "
      ]
     },
     "execution_count": 7,
     "metadata": {},
     "output_type": "execute_result"
    }
   ],
   "source": [
    "q_a_df.head(1)"
   ]
  },
  {
   "cell_type": "code",
   "execution_count": 8,
   "metadata": {},
   "outputs": [],
   "source": [
    "for cc in classifiers:\n",
    "    q_a_df[f\"{cc.name}\"] = q_a_df.apply(\n",
    "        lambda x: cc.classify(x.Title, x.Question), axis=1\n",
    "    )"
   ]
  },
  {
   "cell_type": "code",
   "execution_count": 10,
   "metadata": {},
   "outputs": [
    {
     "data": {
      "text/html": [
       "<div>\n",
       "<style scoped>\n",
       "    .dataframe tbody tr th:only-of-type {\n",
       "        vertical-align: middle;\n",
       "    }\n",
       "\n",
       "    .dataframe tbody tr th {\n",
       "        vertical-align: top;\n",
       "    }\n",
       "\n",
       "    .dataframe thead th {\n",
       "        text-align: right;\n",
       "    }\n",
       "</style>\n",
       "<table border=\"1\" class=\"dataframe\">\n",
       "  <thead>\n",
       "    <tr style=\"text-align: right;\">\n",
       "      <th></th>\n",
       "      <th>Score</th>\n",
       "      <th>N_answers</th>\n",
       "      <th>API_CHANGE</th>\n",
       "      <th>API_USAGE</th>\n",
       "      <th>CONCEPTUAL</th>\n",
       "      <th>DISCREPANCY</th>\n",
       "      <th>DOCUMENTATION</th>\n",
       "      <th>ERRORS</th>\n",
       "      <th>REVIEW</th>\n",
       "    </tr>\n",
       "  </thead>\n",
       "  <tbody>\n",
       "    <tr>\n",
       "      <th>count</th>\n",
       "      <td>65853.000000</td>\n",
       "      <td>65853.000000</td>\n",
       "      <td>65853.000000</td>\n",
       "      <td>65853.000000</td>\n",
       "      <td>65853.000000</td>\n",
       "      <td>65853.000000</td>\n",
       "      <td>65853.000000</td>\n",
       "      <td>65853.000000</td>\n",
       "      <td>65853.000000</td>\n",
       "    </tr>\n",
       "    <tr>\n",
       "      <th>mean</th>\n",
       "      <td>0.972849</td>\n",
       "      <td>1.802667</td>\n",
       "      <td>0.020409</td>\n",
       "      <td>0.151064</td>\n",
       "      <td>0.193765</td>\n",
       "      <td>0.154298</td>\n",
       "      <td>0.023036</td>\n",
       "      <td>0.121058</td>\n",
       "      <td>0.046072</td>\n",
       "    </tr>\n",
       "    <tr>\n",
       "      <th>std</th>\n",
       "      <td>1.066571</td>\n",
       "      <td>1.800060</td>\n",
       "      <td>0.141396</td>\n",
       "      <td>0.358114</td>\n",
       "      <td>0.395250</td>\n",
       "      <td>0.361237</td>\n",
       "      <td>0.150019</td>\n",
       "      <td>0.326197</td>\n",
       "      <td>0.209643</td>\n",
       "    </tr>\n",
       "    <tr>\n",
       "      <th>min</th>\n",
       "      <td>-1.000000</td>\n",
       "      <td>1.000000</td>\n",
       "      <td>0.000000</td>\n",
       "      <td>0.000000</td>\n",
       "      <td>0.000000</td>\n",
       "      <td>0.000000</td>\n",
       "      <td>0.000000</td>\n",
       "      <td>0.000000</td>\n",
       "      <td>0.000000</td>\n",
       "    </tr>\n",
       "    <tr>\n",
       "      <th>25%</th>\n",
       "      <td>0.000000</td>\n",
       "      <td>1.000000</td>\n",
       "      <td>0.000000</td>\n",
       "      <td>0.000000</td>\n",
       "      <td>0.000000</td>\n",
       "      <td>0.000000</td>\n",
       "      <td>0.000000</td>\n",
       "      <td>0.000000</td>\n",
       "      <td>0.000000</td>\n",
       "    </tr>\n",
       "    <tr>\n",
       "      <th>50%</th>\n",
       "      <td>1.000000</td>\n",
       "      <td>1.000000</td>\n",
       "      <td>0.000000</td>\n",
       "      <td>0.000000</td>\n",
       "      <td>0.000000</td>\n",
       "      <td>0.000000</td>\n",
       "      <td>0.000000</td>\n",
       "      <td>0.000000</td>\n",
       "      <td>0.000000</td>\n",
       "    </tr>\n",
       "    <tr>\n",
       "      <th>75%</th>\n",
       "      <td>2.000000</td>\n",
       "      <td>2.000000</td>\n",
       "      <td>0.000000</td>\n",
       "      <td>0.000000</td>\n",
       "      <td>0.000000</td>\n",
       "      <td>0.000000</td>\n",
       "      <td>0.000000</td>\n",
       "      <td>0.000000</td>\n",
       "      <td>0.000000</td>\n",
       "    </tr>\n",
       "    <tr>\n",
       "      <th>max</th>\n",
       "      <td>8.000000</td>\n",
       "      <td>31.000000</td>\n",
       "      <td>1.000000</td>\n",
       "      <td>1.000000</td>\n",
       "      <td>1.000000</td>\n",
       "      <td>1.000000</td>\n",
       "      <td>1.000000</td>\n",
       "      <td>1.000000</td>\n",
       "      <td>1.000000</td>\n",
       "    </tr>\n",
       "  </tbody>\n",
       "</table>\n",
       "</div>"
      ],
      "text/plain": [
       "              Score     N_answers    API_CHANGE     API_USAGE    CONCEPTUAL  \\\n",
       "count  65853.000000  65853.000000  65853.000000  65853.000000  65853.000000   \n",
       "mean       0.972849      1.802667      0.020409      0.151064      0.193765   \n",
       "std        1.066571      1.800060      0.141396      0.358114      0.395250   \n",
       "min       -1.000000      1.000000      0.000000      0.000000      0.000000   \n",
       "25%        0.000000      1.000000      0.000000      0.000000      0.000000   \n",
       "50%        1.000000      1.000000      0.000000      0.000000      0.000000   \n",
       "75%        2.000000      2.000000      0.000000      0.000000      0.000000   \n",
       "max        8.000000     31.000000      1.000000      1.000000      1.000000   \n",
       "\n",
       "        DISCREPANCY  DOCUMENTATION        ERRORS        REVIEW  \n",
       "count  65853.000000   65853.000000  65853.000000  65853.000000  \n",
       "mean       0.154298       0.023036      0.121058      0.046072  \n",
       "std        0.361237       0.150019      0.326197      0.209643  \n",
       "min        0.000000       0.000000      0.000000      0.000000  \n",
       "25%        0.000000       0.000000      0.000000      0.000000  \n",
       "50%        0.000000       0.000000      0.000000      0.000000  \n",
       "75%        0.000000       0.000000      0.000000      0.000000  \n",
       "max        1.000000       1.000000      1.000000      1.000000  "
      ]
     },
     "execution_count": 10,
     "metadata": {},
     "output_type": "execute_result"
    }
   ],
   "source": [
    "q_a_df.describe()"
   ]
  },
  {
   "cell_type": "code",
   "execution_count": 9,
   "metadata": {},
   "outputs": [],
   "source": [
    "api_usage_df = q_a_df[q_a_df['API_USAGE'] == 1]"
   ]
  },
  {
   "cell_type": "code",
   "execution_count": 10,
   "metadata": {},
   "outputs": [
    {
     "data": {
      "text/html": [
       "<div>\n",
       "<style scoped>\n",
       "    .dataframe tbody tr th:only-of-type {\n",
       "        vertical-align: middle;\n",
       "    }\n",
       "\n",
       "    .dataframe tbody tr th {\n",
       "        vertical-align: top;\n",
       "    }\n",
       "\n",
       "    .dataframe thead th {\n",
       "        text-align: right;\n",
       "    }\n",
       "</style>\n",
       "<table border=\"1\" class=\"dataframe\">\n",
       "  <thead>\n",
       "    <tr style=\"text-align: right;\">\n",
       "      <th></th>\n",
       "      <th>Score</th>\n",
       "      <th>N_answers</th>\n",
       "      <th>Q_Id</th>\n",
       "      <th>API_CHANGE</th>\n",
       "      <th>API_USAGE</th>\n",
       "      <th>CONCEPTUAL</th>\n",
       "      <th>DISCREPANCY</th>\n",
       "      <th>DOCUMENTATION</th>\n",
       "      <th>ERRORS</th>\n",
       "      <th>REVIEW</th>\n",
       "    </tr>\n",
       "  </thead>\n",
       "  <tbody>\n",
       "    <tr>\n",
       "      <th>count</th>\n",
       "      <td>9948.000000</td>\n",
       "      <td>9948.000000</td>\n",
       "      <td>9948.000000</td>\n",
       "      <td>9948.000000</td>\n",
       "      <td>9948.0</td>\n",
       "      <td>9948.000000</td>\n",
       "      <td>9948.000000</td>\n",
       "      <td>9948.000000</td>\n",
       "      <td>9948.000000</td>\n",
       "      <td>9948.000000</td>\n",
       "    </tr>\n",
       "    <tr>\n",
       "      <th>mean</th>\n",
       "      <td>0.417918</td>\n",
       "      <td>1.585243</td>\n",
       "      <td>24122.808102</td>\n",
       "      <td>0.022014</td>\n",
       "      <td>1.0</td>\n",
       "      <td>0.173402</td>\n",
       "      <td>0.168074</td>\n",
       "      <td>0.033474</td>\n",
       "      <td>0.090370</td>\n",
       "      <td>0.045738</td>\n",
       "    </tr>\n",
       "    <tr>\n",
       "      <th>std</th>\n",
       "      <td>0.512592</td>\n",
       "      <td>1.377435</td>\n",
       "      <td>14920.351711</td>\n",
       "      <td>0.146738</td>\n",
       "      <td>0.0</td>\n",
       "      <td>0.378613</td>\n",
       "      <td>0.373951</td>\n",
       "      <td>0.179880</td>\n",
       "      <td>0.286725</td>\n",
       "      <td>0.208926</td>\n",
       "    </tr>\n",
       "    <tr>\n",
       "      <th>min</th>\n",
       "      <td>-0.999909</td>\n",
       "      <td>1.000000</td>\n",
       "      <td>4.000000</td>\n",
       "      <td>0.000000</td>\n",
       "      <td>1.0</td>\n",
       "      <td>0.000000</td>\n",
       "      <td>0.000000</td>\n",
       "      <td>0.000000</td>\n",
       "      <td>0.000000</td>\n",
       "      <td>0.000000</td>\n",
       "    </tr>\n",
       "    <tr>\n",
       "      <th>25%</th>\n",
       "      <td>0.000000</td>\n",
       "      <td>1.000000</td>\n",
       "      <td>11185.250000</td>\n",
       "      <td>0.000000</td>\n",
       "      <td>1.0</td>\n",
       "      <td>0.000000</td>\n",
       "      <td>0.000000</td>\n",
       "      <td>0.000000</td>\n",
       "      <td>0.000000</td>\n",
       "      <td>0.000000</td>\n",
       "    </tr>\n",
       "    <tr>\n",
       "      <th>50%</th>\n",
       "      <td>0.173164</td>\n",
       "      <td>1.000000</td>\n",
       "      <td>23125.000000</td>\n",
       "      <td>0.000000</td>\n",
       "      <td>1.0</td>\n",
       "      <td>0.000000</td>\n",
       "      <td>0.000000</td>\n",
       "      <td>0.000000</td>\n",
       "      <td>0.000000</td>\n",
       "      <td>0.000000</td>\n",
       "    </tr>\n",
       "    <tr>\n",
       "      <th>75%</th>\n",
       "      <td>1.200000</td>\n",
       "      <td>2.000000</td>\n",
       "      <td>36915.250000</td>\n",
       "      <td>0.000000</td>\n",
       "      <td>1.0</td>\n",
       "      <td>0.000000</td>\n",
       "      <td>0.000000</td>\n",
       "      <td>0.000000</td>\n",
       "      <td>0.000000</td>\n",
       "      <td>0.000000</td>\n",
       "    </tr>\n",
       "    <tr>\n",
       "      <th>max</th>\n",
       "      <td>1.200000</td>\n",
       "      <td>17.000000</td>\n",
       "      <td>51491.000000</td>\n",
       "      <td>1.000000</td>\n",
       "      <td>1.0</td>\n",
       "      <td>1.000000</td>\n",
       "      <td>1.000000</td>\n",
       "      <td>1.000000</td>\n",
       "      <td>1.000000</td>\n",
       "      <td>1.000000</td>\n",
       "    </tr>\n",
       "  </tbody>\n",
       "</table>\n",
       "</div>"
      ],
      "text/plain": [
       "             Score    N_answers          Q_Id   API_CHANGE  API_USAGE  \\\n",
       "count  9948.000000  9948.000000   9948.000000  9948.000000     9948.0   \n",
       "mean      0.417918     1.585243  24122.808102     0.022014        1.0   \n",
       "std       0.512592     1.377435  14920.351711     0.146738        0.0   \n",
       "min      -0.999909     1.000000      4.000000     0.000000        1.0   \n",
       "25%       0.000000     1.000000  11185.250000     0.000000        1.0   \n",
       "50%       0.173164     1.000000  23125.000000     0.000000        1.0   \n",
       "75%       1.200000     2.000000  36915.250000     0.000000        1.0   \n",
       "max       1.200000    17.000000  51491.000000     1.000000        1.0   \n",
       "\n",
       "        CONCEPTUAL  DISCREPANCY  DOCUMENTATION       ERRORS       REVIEW  \n",
       "count  9948.000000  9948.000000    9948.000000  9948.000000  9948.000000  \n",
       "mean      0.173402     0.168074       0.033474     0.090370     0.045738  \n",
       "std       0.378613     0.373951       0.179880     0.286725     0.208926  \n",
       "min       0.000000     0.000000       0.000000     0.000000     0.000000  \n",
       "25%       0.000000     0.000000       0.000000     0.000000     0.000000  \n",
       "50%       0.000000     0.000000       0.000000     0.000000     0.000000  \n",
       "75%       0.000000     0.000000       0.000000     0.000000     0.000000  \n",
       "max       1.000000     1.000000       1.000000     1.000000     1.000000  "
      ]
     },
     "execution_count": 10,
     "metadata": {},
     "output_type": "execute_result"
    }
   ],
   "source": [
    "api_usage_df.describe()"
   ]
  },
  {
   "cell_type": "code",
   "execution_count": 11,
   "metadata": {},
   "outputs": [],
   "source": [
    "save_path = r'D:\\CQA_RLHF\\data\\processed'"
   ]
  },
  {
   "cell_type": "code",
   "execution_count": 14,
   "metadata": {},
   "outputs": [],
   "source": [
    "api_usage_df = api_usage_df.reset_index(drop=True)"
   ]
  },
  {
   "cell_type": "code",
   "execution_count": 17,
   "metadata": {},
   "outputs": [],
   "source": [
    "api_usage_df.to_csv(r'D:\\CQA_RLHF\\data\\processed\\tanh_score\\1.0-all_data-api_usage-tanh_score.csv')"
   ]
  },
  {
   "cell_type": "code",
   "execution_count": 14,
   "metadata": {},
   "outputs": [],
   "source": [
    "df_with_one_ans = api_usage_df[api_usage_df['N_answers'] == 1]\n",
    "\n",
    "test_dict = df_with_one_ans.to_dict(orient='records')\n",
    "\n",
    "# Combine the dictionaries into a list of dictionaries\n",
    "data_to_save = {'test': test_dict}\n",
    "\n",
    "# Save the list of dictionaries to a JSON file\n",
    "with open(opj(save_path, r'log_score\\1.0-data-log_score-api-usage-to-gen.json'), 'w') as f:\n",
    "    json.dump(data_to_save, f)"
   ]
  },
  {
   "cell_type": "code",
   "execution_count": 15,
   "metadata": {},
   "outputs": [],
   "source": [
    "train_df = api_usage_df[:-3000]\n",
    "val_df = api_usage_df[-3000:-2000]\n",
    "test_df = api_usage_df[-2000:]\n",
    "# Convert each set to a dictionary\n",
    "train_dict = train_df.to_dict(orient='records')\n",
    "val_dict = val_df.to_dict(orient='records')\n",
    "test_dict = test_df.to_dict(orient='records')\n",
    "\n",
    "# Combine the dictionaries into a list of dictionaries\n",
    "data_to_save = {'train': train_dict, 'val': val_dict, 'test': test_dict}\n",
    "\n",
    "# Save the list of dictionaries to a JSON file``\n",
    "with open(opj(save_path, r'log_score\\1.0-data-log_score-api-usage.json'), 'w') as f:\n",
    "    json.dump(data_to_save, f)"
   ]
  },
  {
   "cell_type": "code",
   "execution_count": 23,
   "metadata": {},
   "outputs": [
    {
     "data": {
      "text/plain": [
       "<AxesSubplot:xlabel='Score', ylabel='Count'>"
      ]
     },
     "execution_count": 23,
     "metadata": {},
     "output_type": "execute_result"
    },
    {
     "data": {
      "image/png": "[encoded data removed]",
      "text/plain": [
       "<Figure size 640x480 with 1 Axes>"
      ]
     },
     "metadata": {},
     "output_type": "display_data"
    }
   ],
   "source": [
    "import seaborn as sns\n",
    "sns.histplot(train_df.Score, kde=True, bins=15)"
   ]
  },
  {
   "cell_type": "code",
   "execution_count": null,
   "metadata": {},
   "outputs": [],
   "source": []
  }
 ],
 "metadata": {
  "kernelspec": {
   "display_name": "base",
   "language": "python",
   "name": "python3"
  },
  "language_info": {
   "codemirror_mode": {
    "name": "ipython",
    "version": 3
   },
   "file_extension": ".py",
   "mimetype": "text/x-python",
   "name": "python",
   "nbconvert_exporter": "python",
   "pygments_lexer": "ipython3",
   "version": "3.9.12"
  },
  "orig_nbformat": 4,
  "vscode": {
   "interpreter": {
    "hash": "ad2bdc8ecc057115af97d19610ffacc2b4e99fae6737bb82f5d7fb13d2f2c186"
   }
  }
 },
 "nbformat": 4,
 "nbformat_minor": 2
}
