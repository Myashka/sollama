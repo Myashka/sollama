{
 "cells": [
  {
   "cell_type": "code",
   "execution_count": 2,
   "metadata": {},
   "outputs": [
    {
     "name": "stderr",
     "output_type": "stream",
     "text": [
      "/home/st-gorbatovski/.conda/envs/gorbatovski_env/lib/python3.10/site-packages/tqdm/auto.py:21: TqdmWarning: IProgress not found. Please update jupyter and ipywidgets. See https://ipywidgets.readthedocs.io/en/stable/user_install.html\n",
      "  from .autonotebook import tqdm as notebook_tqdm\n"
     ]
    }
   ],
   "source": [
    "from datasets import load_dataset\n",
    "import pandas as pd\n",
    "import numpy as np"
   ]
  },
  {
   "cell_type": "code",
   "execution_count": 37,
   "metadata": {},
   "outputs": [
    {
     "name": "stdout",
     "output_type": "stream",
     "text": [
      "Downloading and preparing dataset json/default to /home/st-gorbatovski/.cache/huggingface/datasets/json/default-11ca0a88ad75fd3a/0.0.0/8bb11242116d547c741b2e8a1f18598ffdd40a1d4f2a2872c7a28b697434bc96...\n"
     ]
    },
    {
     "name": "stderr",
     "output_type": "stream",
     "text": [
      "Downloading data files: 100%|██████████| 1/1 [00:00<00:00, 4319.57it/s]\n",
      "Extracting data files: 100%|██████████| 1/1 [00:00<00:00, 1825.20it/s]\n",
      "                                                                   \r"
     ]
    },
    {
     "name": "stdout",
     "output_type": "stream",
     "text": [
      "Dataset json downloaded and prepared to /home/st-gorbatovski/.cache/huggingface/datasets/json/default-11ca0a88ad75fd3a/0.0.0/8bb11242116d547c741b2e8a1f18598ffdd40a1d4f2a2872c7a28b697434bc96. Subsequent calls will reuse this data.\n"
     ]
    },
    {
     "name": "stderr",
     "output_type": "stream",
     "text": [
      "100%|██████████| 1/1 [00:00<00:00, 386.04it/s]\n"
     ]
    }
   ],
   "source": [
    "df = load_dataset('json', data_files=\"/home/st-gorbatovski/sollama/data/processed/tanh_score/classified_python_qa_no_code.json\")[\"train\"].to_pandas()"
   ]
  },
  {
   "cell_type": "code",
   "execution_count": 100,
   "metadata": {},
   "outputs": [
    {
     "data": {
      "text/plain": [
       "66060"
      ]
     },
     "execution_count": 100,
     "metadata": {},
     "output_type": "execute_result"
    }
   ],
   "source": [
    "len(df)"
   ]
  },
  {
   "cell_type": "code",
   "execution_count": 101,
   "metadata": {},
   "outputs": [
    {
     "name": "stdout",
     "output_type": "stream",
     "text": [
      "Data Science and Machine Learning: 8889\n",
      "Database and SQL: 3926\n",
      "GUI and Desktop Applications: 4705\n",
      "Networking and APIs: 5895\n",
      "Other: 9542\n",
      "Python Basics and Environment: 29984\n",
      "System Administration and DevOps: 10801\n",
      "Web Development: 14416\n"
     ]
    }
   ],
   "source": [
    "tags_classification = [\n",
    "    \"Data Science and Machine Learning\",\n",
    "    \"Database and SQL\",\n",
    "    \"GUI and Desktop Applications\",\n",
    "    \"Networking and APIs\",\n",
    "    \"Other\",\n",
    "    \"Python Basics and Environment\",\n",
    "    \"System Administration and DevOps\",\n",
    "    \"Web Development\",\n",
    "]\n",
    "\n",
    "for tag in tags_classification:\n",
    "    print(f\"{tag}: {df[tag].sum()}\")"
   ]
  },
  {
   "cell_type": "code",
   "execution_count": 96,
   "metadata": {},
   "outputs": [
    {
     "data": {
      "text/plain": [
       "1304"
      ]
     },
     "execution_count": 96,
     "metadata": {},
     "output_type": "execute_result"
    }
   ],
   "source": [
    "df[df['total_tags'] == 0].Q_Id.nunique()"
   ]
  },
  {
   "cell_type": "code",
   "execution_count": 91,
   "metadata": {},
   "outputs": [
    {
     "name": "stdout",
     "output_type": "stream",
     "text": [
      "Number of questions not belonging to any tag: 1553\n"
     ]
    }
   ],
   "source": [
    "df['total_tags'] = df[tags_classification].sum(axis=1)\n",
    "\n",
    "# Определяем количество вопросов, которые не принадлежат ни к одному тегу (т.е. 'total_tags' равно 0)\n",
    "num_questions_without_tags = (df['total_tags'] == 0).sum()\n",
    "\n",
    "print(f\"Number of questions not belonging to any tag: {num_questions_without_tags}\")"
   ]
  },
  {
   "cell_type": "code",
   "execution_count": 4,
   "metadata": {},
   "outputs": [],
   "source": [
    "python_basics_df = df[df[\"Python Basics and Environment\"] == 1]"
   ]
  },
  {
   "cell_type": "code",
   "execution_count": 103,
   "metadata": {},
   "outputs": [
    {
     "name": "stdout",
     "output_type": "stream",
     "text": [
      "Data Science and Machine Learning: 1715\n",
      "Database and SQL: 356\n",
      "GUI and Desktop Applications: 1194\n",
      "Networking and APIs: 602\n",
      "Other: 3442\n",
      "Python Basics and Environment: 29984\n",
      "System Administration and DevOps: 4145\n",
      "Web Development: 1540\n"
     ]
    }
   ],
   "source": [
    "for tag in tags_classification:\n",
    "    print(f\"{tag}: {python_basics_df[tag].sum()}\")"
   ]
  },
  {
   "cell_type": "markdown",
   "metadata": {},
   "source": [
    "## MPNet classes comparision"
   ]
  },
  {
   "cell_type": "code",
   "execution_count": 81,
   "metadata": {},
   "outputs": [],
   "source": [
    "from transformers import AutoTokenizer, AutoModel\n",
    "import math\n",
    "from tqdm import tqdm"
   ]
  },
  {
   "cell_type": "code",
   "execution_count": 82,
   "metadata": {},
   "outputs": [],
   "source": [
    "tokenizer = AutoTokenizer.from_pretrained(\n",
    "    \"sentence-transformers/multi-qa-mpnet-base-cos-v1\"\n",
    ")\n",
    "model = AutoModel.from_pretrained(\n",
    "    \"sentence-transformers/multi-qa-mpnet-base-cos-v1\", device_map=\"cuda:0\"\n",
    ")\n",
    "\n",
    "model.config.max_length = 512"
   ]
  },
  {
   "cell_type": "code",
   "execution_count": 83,
   "metadata": {},
   "outputs": [],
   "source": [
    "python_basics_df = python_basics_df[python_basics_df[\"Available Count\"] > 1]\n",
    "python_basics_df = python_basics_df.reset_index(drop=True)\n",
    "log_scores = pd.concat([python_basics_df[python_basics_df['Users Score'] >= 0]['Users Score'].apply(lambda x: round(math.log2(x+1))), python_basics_df[python_basics_df['Users Score'] < 0]['Users Score'].apply(lambda x: -1)]).sort_index().values\n",
    "python_basics_df['log_score'] = log_scores\n",
    "python_basics_df.loc[python_basics_df['is_accepted'] == True, 'log_score'] += 1"
   ]
  },
  {
   "cell_type": "code",
   "execution_count": 84,
   "metadata": {},
   "outputs": [],
   "source": [
    "import pandas as pd\n",
    "\n",
    "def binary_comparison(scores):\n",
    "    \"\"\"Returns tuples of responses, where the first response always has a higher score than the second.\"\"\"\n",
    "    pairs = []\n",
    "    \n",
    "    for i in range(len(scores)-1):\n",
    "        for j in range(i+1, len(scores)):\n",
    "            if scores[i] > scores[j]:\n",
    "                pairs.append((i, j))\n",
    "                \n",
    "    return pairs\n",
    "\n",
    "def generate_response_pairs(df):\n",
    "    \"\"\"Generates a new DataFrame with columns: Question, Title, Q_Id, response_j, response_k, where response_j has a higher log_score than response_k.\"\"\"\n",
    "    MAX_PAIRS_PER_QUESTION = 20\n",
    "    \n",
    "    new_data = {\"CreationDate\": [], \"Question\": [], \"Title\": [], \"Q_Id\": [], \"response_j\": [], \"response_k\": []}\n",
    "    \n",
    "    for _, group in df.groupby(\"Q_Id\"):\n",
    "        scores = group[\"log_score\"].tolist()\n",
    "        pairs = binary_comparison(scores)\n",
    "        \n",
    "        if len(pairs) > MAX_PAIRS_PER_QUESTION:\n",
    "            indices = np.random.choice(list(range(len(pairs))), MAX_PAIRS_PER_QUESTION, replace=False)\n",
    "            pairs = [pairs[i] for i in indices]\n",
    "        \n",
    "        for pair in pairs:\n",
    "            idx_j, idx_k = pair\n",
    "            new_data[\"Question\"].append(group.iloc[0][\"Question\"])\n",
    "            new_data[\"Title\"].append(group.iloc[0][\"Title\"])\n",
    "            new_data[\"Q_Id\"].append(group.iloc[0][\"Q_Id\"])\n",
    "            new_data[\"CreationDate\"].append(group.iloc[0][\"CreationDate\"])\n",
    "            new_data[\"response_j\"].append(group.iloc[idx_j][\"Answer\"])\n",
    "            new_data[\"response_k\"].append(group.iloc[idx_k][\"Answer\"])\n",
    "    \n",
    "    return pd.DataFrame(new_data)\n",
    "\n",
    "def gen_batch(df, batch_size):\n",
    "    length = len(df)\n",
    "    for i in range(0, length, batch_size):\n",
    "        yield df.iloc[i : i+batch_size]"
   ]
  },
  {
   "cell_type": "code",
   "execution_count": 85,
   "metadata": {},
   "outputs": [
    {
     "name": "stdout",
     "output_type": "stream",
     "text": [
      "1880\n"
     ]
    }
   ],
   "source": [
    "compare_df = generate_response_pairs(python_basics_df)\n",
    "print(len(compare_df))"
   ]
  },
  {
   "cell_type": "code",
   "execution_count": 86,
   "metadata": {},
   "outputs": [
    {
     "name": "stderr",
     "output_type": "stream",
     "text": [
      "118it [00:42,  2.78it/s]\n"
     ]
    }
   ],
   "source": [
    "import torch\n",
    "import torch.nn.functional as F\n",
    "\n",
    "def mean_pooling(model_output, attention_mask):\n",
    "    token_embeddings = model_output[0]\n",
    "    input_mask_expanded = attention_mask.unsqueeze(-1).expand(token_embeddings.size()).float()\n",
    "    return torch.sum(token_embeddings * input_mask_expanded, 1) / torch.clamp(input_mask_expanded.sum(1), min=1e-9)\n",
    "\n",
    "def cosine_similarity(embeddings_a, embeddings_b):\n",
    "    normalized_a = F.normalize(embeddings_a, p=2, dim=1)\n",
    "    normalized_b = F.normalize(embeddings_b, p=2, dim=1)\n",
    "    return torch.nn.functional.cosine_similarity(normalized_a, normalized_b, dim=1)\n",
    "\n",
    "def compute_cosine_similarity(question_df, model):\n",
    "    encoded_input = tokenizer(list(question_df['Question']) + list(question_df['response_j']) + list(question_df['response_k']),\n",
    "                              padding=True, truncation=True, return_tensors='pt', max_length = 512)\n",
    "    with torch.no_grad():\n",
    "        model_output = model(**encoded_input)\n",
    "    sentence_embeddings = mean_pooling(model_output, encoded_input['attention_mask'])\n",
    "    question_emb, response_j_emb, response_k_emb = torch.split(sentence_embeddings, len(question_df))\n",
    "    \n",
    "    cosine_sim_j = cosine_similarity(question_emb, response_j_emb)\n",
    "    cosine_sim_k = cosine_similarity(question_emb, response_k_emb)\n",
    "    \n",
    "    return cosine_sim_j, cosine_sim_k, question_emb, response_j_emb, response_k_emb\n",
    "\n",
    "batch_size = 16\n",
    "result_cosine_j, result_cosine_k = [], []\n",
    "question_embs_list, response_j_embs_list, response_k_embs_list = [], [], []\n",
    "\n",
    "for batch_df in tqdm(gen_batch(compare_df, batch_size)):\n",
    "    cosine_j, cosine_k, question_embs, response_j_embs, response_k_embs = compute_cosine_similarity(batch_df, model)\n",
    "    \n",
    "    result_cosine_j.extend(cosine_j.tolist())\n",
    "    result_cosine_k.extend(cosine_k.tolist())\n",
    "    \n",
    "    question_embs_list.append(question_embs)\n",
    "    response_j_embs_list.append(response_j_embs)\n",
    "    response_k_embs_list.append(response_k_embs)\n",
    "\n",
    "question_embs = torch.cat(question_embs_list, axis=0)\n",
    "response_j_embs = torch.cat(response_j_embs_list, axis=0)\n",
    "response_k_embs = torch.cat(response_k_embs_list, axis=0)\n",
    "\n",
    "compare_df['CosineSimilarity_j'] = result_cosine_j\n",
    "compare_df['CosineSimilarity_k'] = result_cosine_k"
   ]
  },
  {
   "cell_type": "code",
   "execution_count": 87,
   "metadata": {},
   "outputs": [
    {
     "name": "stdout",
     "output_type": "stream",
     "text": [
      "0.2986695845950139\n",
      "57.13\n"
     ]
    }
   ],
   "source": [
    "correlation = compare_df['CosineSimilarity_j'].corr(compare_df['CosineSimilarity_k'])\n",
    "print(correlation)\n",
    "\n",
    "compare_df['j_k_sim'] = compare_df['CosineSimilarity_j'] > compare_df['CosineSimilarity_k']\n",
    "print(round(sum(compare_df[\"j_k_sim\"])/len(compare_df) * 100, 2))"
   ]
  },
  {
   "cell_type": "markdown",
   "metadata": {},
   "source": [
    "Набор данных SO Python Q&A 66060 пар вопрос-ответ\n",
    "\n",
    "Без изображений, ссылок, блоков кода в вопросах и ответах\n",
    "\n",
    "- Data Science and Machine Learning: 8889\n",
    "- Database and SQL: 3926\n",
    "- GUI and Desktop Applications: 4705\n",
    "- Networking and APIs: 5895\n",
    "- Other: 9542\n",
    "- Python Basics and Environment: 29984\n",
    "- System Administration and DevOps: 10801\n",
    "- Web Development: 14416\n",
    "\n",
    "Не размечено 1304 уникальных вопросов (1553 строк датасета)\n",
    "\n",
    "*Count* - число всех возможных комбинаций вопрос-ответ для уникальных вопросов\n",
    "- Python Basics and Environment\n",
    "    - Accuracy - 58.09%\n",
    "    - Correlation - 0.3043\n",
    "    - Count ~5000\n",
    "- Data Science and Machine Learning\n",
    "    - Accuracy - 53.68%\n",
    "    - Correlation - 0.3664\n",
    "    - Count ~500\n",
    "- Database and SQL\n",
    "    - Accuracy - 56.2%\n",
    "    - Correlation - 0.2198\n",
    "    - Count - 411\n",
    "- GUI and Desktop Applications\n",
    "    - Accuracy - 62.48%\n",
    "    - Correlation - 0.2904\n",
    "    - Count - 597\n",
    "- Networking and APIs\n",
    "    - Accuracy - 53.97%\n",
    "    - Correlation - 0.2138\n",
    "    - Count - 441\n",
    "- Other\n",
    "    - Accuracy - 59.82%\n",
    "    - Correlation - 0.3510\n",
    "    - Count - 1874\n",
    "- System Administration and DevOps\n",
    "    - Accuracy - 59.08%\n",
    "    - Correlation - 0.2570\n",
    "    - Count - 1674\n",
    "- Web Development\n",
    "    - Accuracy - 57.13%\n",
    "    - Correlation - 0.2987\n",
    "    - Count - 1880"
   ]
  },
  {
   "cell_type": "code",
   "execution_count": 97,
   "metadata": {},
   "outputs": [],
   "source": [
    "pd.set_option(\"display.max_colwidth\", None)"
   ]
  },
  {
   "cell_type": "markdown",
   "metadata": {},
   "source": [
    "## Hand check"
   ]
  },
  {
   "cell_type": "code",
   "execution_count": 122,
   "metadata": {},
   "outputs": [
    {
     "data": {
      "text/plain": [
       "23.2"
      ]
     },
     "execution_count": 122,
     "metadata": {},
     "output_type": "execute_result"
    }
   ],
   "source": [
    "round(len(python_basics_df[python_basics_df[\"Score\"] == 1.2])/len(python_basics_df) * 100, 2)"
   ]
  },
  {
   "cell_type": "code",
   "execution_count": 137,
   "metadata": {},
   "outputs": [
    {
     "data": {
      "text/plain": [
       "28796"
      ]
     },
     "execution_count": 137,
     "metadata": {},
     "output_type": "execute_result"
    }
   ],
   "source": [
    "python_basics_df.Q_Id.unique()[6]"
   ]
  },
  {
   "cell_type": "code",
   "execution_count": 138,
   "metadata": {},
   "outputs": [
    {
     "name": "stdout",
     "output_type": "stream",
     "text": [
      "I have a bunch of classes I want to rename.  Some of them have names that are small and that name is reused in other class names, where I don't want that name changed.  Most of this lives in Python code, but we also have some XML code that references class names.\n",
      "Simple search and replace only gets me so far.  In my case, I want to rename AdminAction to AdminActionPlug and AdminActionLogger to AdminActionLoggerPlug, so the first one's search-and-replace would also hit the second, wrongly.\n",
      "Does anyone have experience with Python refactoring tools ? Bonus points if they can fix class names in the XML documents too.\n"
     ]
    }
   ],
   "source": [
    "print(python_basics_df[python_basics_df['Q_Id'] == 28796]['Question'].values[0])"
   ]
  },
  {
   "cell_type": "markdown",
   "metadata": {},
   "source": [
    "## Dataset creation"
   ]
  },
  {
   "cell_type": "code",
   "execution_count": 140,
   "metadata": {},
   "outputs": [],
   "source": [
    "python_basics_df = python_basics_df.reset_index(drop=True)"
   ]
  },
  {
   "cell_type": "code",
   "execution_count": 145,
   "metadata": {},
   "outputs": [],
   "source": [
    "tags_classification = [\n",
    "    \"Data Science and Machine Learning\",\n",
    "    \"Database and SQL\",\n",
    "    \"GUI and Desktop Applications\",\n",
    "    \"Networking and APIs\",\n",
    "    \"Other\",\n",
    "    \"Python Basics and Environment\",\n",
    "    \"System Administration and DevOps\",\n",
    "    \"Web Development\",\n",
    "]\n",
    "\n",
    "python_basics_df = python_basics_df.drop(columns=tags_classification)"
   ]
  },
  {
   "cell_type": "code",
   "execution_count": 148,
   "metadata": {},
   "outputs": [],
   "source": [
    "python_basics_df = python_basics_df.sort_values('CreationDate')"
   ]
  },
  {
   "cell_type": "code",
   "execution_count": 153,
   "metadata": {},
   "outputs": [
    {
     "name": "stdout",
     "output_type": "stream",
     "text": [
      "29984\n"
     ]
    }
   ],
   "source": [
    "print(len(python_basics_df))"
   ]
  },
  {
   "cell_type": "code",
   "execution_count": 154,
   "metadata": {},
   "outputs": [],
   "source": [
    "log_scores = pd.concat([python_basics_df[python_basics_df['Users Score'] >= 0]['Users Score'].apply(lambda x: round(math.log2(x+1))), python_basics_df[python_basics_df['Users Score'] < 0]['Users Score'].apply(lambda x: -1)]).sort_index().values\n",
    "python_basics_df['log_score'] = log_scores\n",
    "python_basics_df.loc[python_basics_df['is_accepted'] == True, 'log_score'] += 1"
   ]
  },
  {
   "cell_type": "code",
   "execution_count": 159,
   "metadata": {},
   "outputs": [],
   "source": [
    "grouped = python_basics_df.groupby('Q_Id').apply(lambda x: x)\n",
    "train_df = grouped.iloc[:-1500]\n",
    "val_df = grouped.iloc[-1500:-1000]\n",
    "test_df = grouped.iloc[-1000:]"
   ]
  },
  {
   "cell_type": "code",
   "execution_count": 163,
   "metadata": {},
   "outputs": [],
   "source": [
    "train_df.to_json('/home/st-gorbatovski/sollama/data/processed/tanh_score/python_basics/train.json', orient='records')\n",
    "val_df.to_json('/home/st-gorbatovski/sollama/data/processed/tanh_score/python_basics/validation.json', orient='records')\n",
    "test_df.to_json('/home/st-gorbatovski/sollama/data/processed/tanh_score/python_basics/test.json', orient='records')"
   ]
  },
  {
   "cell_type": "code",
   "execution_count": 164,
   "metadata": {},
   "outputs": [
    {
     "name": "stdout",
     "output_type": "stream",
     "text": [
      "Downloading and preparing dataset json/default to /home/st-gorbatovski/.cache/huggingface/datasets/json/default-dd61031d55da8223/0.0.0/8bb11242116d547c741b2e8a1f18598ffdd40a1d4f2a2872c7a28b697434bc96...\n"
     ]
    },
    {
     "name": "stderr",
     "output_type": "stream",
     "text": [
      "Downloading data files: 100%|██████████| 3/3 [00:00<00:00, 21363.18it/s]\n",
      "Extracting data files: 100%|██████████| 3/3 [00:00<00:00, 2323.71it/s]\n",
      "                                                                   \r"
     ]
    },
    {
     "name": "stdout",
     "output_type": "stream",
     "text": [
      "Dataset json downloaded and prepared to /home/st-gorbatovski/.cache/huggingface/datasets/json/default-dd61031d55da8223/0.0.0/8bb11242116d547c741b2e8a1f18598ffdd40a1d4f2a2872c7a28b697434bc96. Subsequent calls will reuse this data.\n"
     ]
    },
    {
     "name": "stderr",
     "output_type": "stream",
     "text": [
      "100%|██████████| 3/3 [00:00<00:00, 818.77it/s]\n"
     ]
    }
   ],
   "source": [
    "dataset = load_dataset(\n",
    "    \"json\",\n",
    "    data_files={\n",
    "        \"train\": \"/home/st-gorbatovski/sollama/data/processed/tanh_score/python_basics/train.json\",\n",
    "        \"validation\": \"/home/st-gorbatovski/sollama/data/processed/tanh_score/python_basics/validation.json\",\n",
    "        \"test\": \"/home/st-gorbatovski/sollama/data/processed/tanh_score/python_basics/test.json\",\n",
    "    },\n",
    ")"
   ]
  },
  {
   "cell_type": "code",
   "execution_count": 167,
   "metadata": {},
   "outputs": [],
   "source": [
    "from transformers import LlamaTokenizer"
   ]
  },
  {
   "cell_type": "code",
   "execution_count": 168,
   "metadata": {},
   "outputs": [
    {
     "name": "stderr",
     "output_type": "stream",
     "text": [
      "The tokenizer class you load from this checkpoint is not the same type as the class this function is called from. It may result in unexpected tokenization. \n",
      "The tokenizer class you load from this checkpoint is 'LLaMATokenizer'. \n",
      "The class this function is called from is 'LlamaTokenizer'.\n"
     ]
    }
   ],
   "source": [
    "train_df = dataset['train'].to_pandas()\n",
    "val_df = dataset['validation'].to_pandas()\n",
    "test_df = dataset['test'].to_pandas()\n",
    "\n",
    "tokenizer = LlamaTokenizer.from_pretrained(\"/raid/models/llama-7b-hf\", eos_token=\"</s>\")\n",
    "tokenizer.padding_side = \"left\""
   ]
  },
  {
   "cell_type": "code",
   "execution_count": 169,
   "metadata": {},
   "outputs": [
    {
     "name": "stderr",
     "output_type": "stream",
     "text": [
      "Token indices sequence length is longer than the specified maximum sequence length for this model (2261 > 2048). Running this sequence through the model will result in indexing errors\n"
     ]
    }
   ],
   "source": [
    "train_df[\"answer_token_length\"] = train_df[\"Answer\"].apply(\n",
    "    lambda x: len(tokenizer.encode(x, add_special_tokens=False))\n",
    ")\n",
    "train_df[\"question_token_length\"] = train_df[\"Question\"].apply(\n",
    "    lambda x: len(tokenizer.encode(x, add_special_tokens=False))\n",
    ")\n",
    "\n",
    "val_df[\"answer_token_length\"] = val_df[\"Answer\"].apply(\n",
    "    lambda x: len(tokenizer.encode(x, add_special_tokens=False))\n",
    ")\n",
    "val_df[\"question_token_length\"] = val_df[\"Question\"].apply(\n",
    "    lambda x: len(tokenizer.encode(x, add_special_tokens=False))\n",
    ")\n",
    "\n",
    "test_df[\"answer_token_length\"] = test_df[\"Answer\"].apply(\n",
    "    lambda x: len(tokenizer.encode(x, add_special_tokens=False))\n",
    ")\n",
    "test_df[\"question_token_length\"] = test_df[\"Question\"].apply(\n",
    "    lambda x: len(tokenizer.encode(x, add_special_tokens=False))\n",
    ")"
   ]
  },
  {
   "cell_type": "code",
   "execution_count": 170,
   "metadata": {},
   "outputs": [
    {
     "data": {
      "image/png": "[encoded data removed]",
      "text/plain": [
       "<Figure size 1500x1500 with 6 Axes>"
      ]
     },
     "metadata": {},
     "output_type": "display_data"
    },
    {
     "ename": "",
     "evalue": "",
     "output_type": "error",
     "traceback": [
      "\u001b[1;31mThe Kernel crashed while executing code in the the current cell or a previous cell. Please review the code in the cell(s) to identify a possible cause of the failure. Click <a href='https://aka.ms/vscodeJupyterKernelCrash'>here</a> for more info. View Jupyter <a href='command:jupyter.viewOutput'>log</a> for further details."
     ]
    }
   ],
   "source": [
    "import matplotlib.pyplot as plt\n",
    "import seaborn as sns\n",
    "\n",
    "fig, axs = plt.subplots(3, 2, figsize=(15, 15))\n",
    "\n",
    "sns.histplot(data=train_df, x=\"answer_token_length\", ax=axs[0, 0], bins=50)\n",
    "axs[0, 0].set_title('Train DF Answer Length')\n",
    "\n",
    "sns.histplot(data=train_df, x=\"question_token_length\", ax=axs[0, 1], bins=50)\n",
    "axs[0, 1].set_title('Train DF Question Length')\n",
    "\n",
    "sns.histplot(data=val_df, x=\"answer_token_length\", ax=axs[1, 0], bins=50)\n",
    "axs[1, 0].set_title('Val DF Answer Length')\n",
    "\n",
    "sns.histplot(data=val_df, x=\"question_token_length\", ax=axs[1, 1], bins=50)\n",
    "axs[1, 1].set_title('Val DF Question Length')\n",
    "\n",
    "sns.histplot(data=test_df, x=\"answer_token_length\", ax=axs[2, 0], bins=50)\n",
    "axs[2, 0].set_title('Test DF Answer Length')\n",
    "\n",
    "sns.histplot(data=test_df, x=\"question_token_length\", ax=axs[2, 1], bins=50)\n",
    "axs[2, 1].set_title('Test DF Question Length')\n",
    "\n",
    "plt.tight_layout()\n",
    "plt.show()\n"
   ]
  },
  {
   "cell_type": "code",
   "execution_count": null,
   "metadata": {},
   "outputs": [],
   "source": [
    "import seaborn as sns\n",
    "import matplotlib.pyplot as plt\n",
    "\n",
    "fig, ax = plt.subplots(2, 3, figsize=(18, 10))\n",
    "\n",
    "sns.distplot(train_df[\"Score\"], ax=ax[0, 0], color='blue')\n",
    "ax[0, 0].set_title('Train Score Distribution')\n",
    "\n",
    "sns.distplot(val_df[\"Score\"], ax=ax[0, 1], color='orange')\n",
    "ax[0, 1].set_title('Validation Score Distribution')\n",
    "\n",
    "sns.distplot(test_df[\"Score\"], ax=ax[0, 2], color='green')\n",
    "ax[0, 2].set_title('Test Score Distribution')\n",
    "\n",
    "sns.distplot(train_df[\"log_score\"], ax=ax[1, 0], color='blue')\n",
    "ax[1, 0].set_title('Train Log Score Distribution')\n",
    "\n",
    "sns.distplot(val_df[\"log_score\"], ax=ax[1, 1], color='orange')\n",
    "ax[1, 1].set_title('Validation Log Score Distribution')\n",
    "\n",
    "sns.distplot(test_df[\"log_score\"], ax=ax[1, 2], color='green')\n",
    "ax[1, 2].set_title('Test Log Score Distribution')\n",
    "\n",
    "plt.tight_layout()\n",
    "plt.show()"
   ]
  },
  {
   "cell_type": "markdown",
   "metadata": {},
   "source": [
    "## Pre-generation stage"
   ]
  },
  {
   "cell_type": "code",
   "execution_count": 2,
   "metadata": {},
   "outputs": [
    {
     "name": "stderr",
     "output_type": "stream",
     "text": [
      "Found cached dataset json (/home/st-gorbatovski/.cache/huggingface/datasets/Myashka___json/Myashka--SO-Python_basics_QA-filtered-2023-tanh_score-65cea773c91b5e47/0.0.0/8bb11242116d547c741b2e8a1f18598ffdd40a1d4f2a2872c7a28b697434bc96)\n",
      "100%|██████████| 3/3 [00:00<00:00, 762.97it/s]\n"
     ]
    }
   ],
   "source": [
    "dataset = load_dataset(\"Myashka/SO-Python_basics_QA-filtered-2023-tanh_score\")\n",
    "df = pd.concat([dataset[\"train\"].to_pandas(), dataset[\"validation\"].to_pandas(), dataset[\"test\"].to_pandas()], ignore_index=True)"
   ]
  },
  {
   "cell_type": "code",
   "execution_count": 4,
   "metadata": {},
   "outputs": [
    {
     "data": {
      "text/plain": [
       "Index(['Score', 'Available Count', 'A_Id', 'CreationDate', 'AnswerCount',\n",
       "       'Q_Score', 'Title', 'is_accepted', 'Answer', 'Q_Id', 'Users Score',\n",
       "       'ViewCount', 'Tags', 'Question', 'log_score'],\n",
       "      dtype='object')"
      ]
     },
     "execution_count": 4,
     "metadata": {},
     "output_type": "execute_result"
    }
   ],
   "source": [
    "df.columns"
   ]
  },
  {
   "cell_type": "code",
   "execution_count": 40,
   "metadata": {},
   "outputs": [
    {
     "data": {
      "text/html": [
       "<div>\n",
       "<style scoped>\n",
       "    .dataframe tbody tr th:only-of-type {\n",
       "        vertical-align: middle;\n",
       "    }\n",
       "\n",
       "    .dataframe tbody tr th {\n",
       "        vertical-align: top;\n",
       "    }\n",
       "\n",
       "    .dataframe thead th {\n",
       "        text-align: right;\n",
       "    }\n",
       "</style>\n",
       "<table border=\"1\" class=\"dataframe\">\n",
       "  <thead>\n",
       "    <tr style=\"text-align: right;\">\n",
       "      <th></th>\n",
       "      <th>Score</th>\n",
       "      <th>Available Count</th>\n",
       "      <th>A_Id</th>\n",
       "      <th>CreationDate</th>\n",
       "      <th>AnswerCount</th>\n",
       "      <th>Q_Score</th>\n",
       "      <th>Title</th>\n",
       "      <th>is_accepted</th>\n",
       "      <th>Answer</th>\n",
       "      <th>Q_Id</th>\n",
       "      <th>Users Score</th>\n",
       "      <th>ViewCount</th>\n",
       "      <th>Tags</th>\n",
       "      <th>Question</th>\n",
       "      <th>log_score</th>\n",
       "    </tr>\n",
       "  </thead>\n",
       "  <tbody>\n",
       "    <tr>\n",
       "      <th>0</th>\n",
       "      <td>0.022219</td>\n",
       "      <td>14</td>\n",
       "      <td>49586164</td>\n",
       "      <td>2008-08-05T07:18:00.000</td>\n",
       "      <td>18</td>\n",
       "      <td>58</td>\n",
       "      <td>Python: what is the difference between (1,2,3)...</td>\n",
       "      <td>False</td>\n",
       "      <td>(1,2,3) and [1,2,3] can be used interchangeabl...</td>\n",
       "      <td>1983</td>\n",
       "      <td>2</td>\n",
       "      <td>12477</td>\n",
       "      <td>python,list,tuples</td>\n",
       "      <td>In many places, (1,2,3) (a tuple) and [1,2,3] ...</td>\n",
       "      <td>2</td>\n",
       "    </tr>\n",
       "    <tr>\n",
       "      <th>1</th>\n",
       "      <td>0.022219</td>\n",
       "      <td>14</td>\n",
       "      <td>5746</td>\n",
       "      <td>2008-08-05T07:18:00.000</td>\n",
       "      <td>18</td>\n",
       "      <td>58</td>\n",
       "      <td>Python: what is the difference between (1,2,3)...</td>\n",
       "      <td>False</td>\n",
       "      <td>If you can find a solution that works with tup...</td>\n",
       "      <td>1983</td>\n",
       "      <td>2</td>\n",
       "      <td>12477</td>\n",
       "      <td>python,list,tuples</td>\n",
       "      <td>In many places, (1,2,3) (a tuple) and [1,2,3] ...</td>\n",
       "      <td>2</td>\n",
       "    </tr>\n",
       "  </tbody>\n",
       "</table>\n",
       "</div>"
      ],
      "text/plain": [
       "      Score  Available Count      A_Id             CreationDate  AnswerCount  \\\n",
       "0  0.022219               14  49586164  2008-08-05T07:18:00.000           18   \n",
       "1  0.022219               14      5746  2008-08-05T07:18:00.000           18   \n",
       "\n",
       "   Q_Score                                              Title  is_accepted  \\\n",
       "0       58  Python: what is the difference between (1,2,3)...        False   \n",
       "1       58  Python: what is the difference between (1,2,3)...        False   \n",
       "\n",
       "                                              Answer  Q_Id  Users Score  \\\n",
       "0  (1,2,3) and [1,2,3] can be used interchangeabl...  1983            2   \n",
       "1  If you can find a solution that works with tup...  1983            2   \n",
       "\n",
       "   ViewCount                Tags  \\\n",
       "0      12477  python,list,tuples   \n",
       "1      12477  python,list,tuples   \n",
       "\n",
       "                                            Question  log_score  \n",
       "0  In many places, (1,2,3) (a tuple) and [1,2,3] ...          2  \n",
       "1  In many places, (1,2,3) (a tuple) and [1,2,3] ...          2  "
      ]
     },
     "execution_count": 40,
     "metadata": {},
     "output_type": "execute_result"
    }
   ],
   "source": [
    "df.head(2)"
   ]
  },
  {
   "cell_type": "code",
   "execution_count": 41,
   "metadata": {},
   "outputs": [
    {
     "name": "stdout",
     "output_type": "stream",
     "text": [
      "17265\n",
      "10302\n",
      "2417\n"
     ]
    }
   ],
   "source": [
    "print(len(df[df[\"Available Count\"] == 1]))\n",
    "print(len(df[(df[\"Available Count\"] > 1) & (df[\"Available Count\"] < 5)]))\n",
    "print(len(df[df[\"Available Count\"] >= 5]))"
   ]
  },
  {
   "cell_type": "code",
   "execution_count": 42,
   "metadata": {},
   "outputs": [
    {
     "data": {
      "text/plain": [
       "515"
      ]
     },
     "execution_count": 42,
     "metadata": {},
     "output_type": "execute_result"
    }
   ],
   "source": [
    "len(df[(df[\"Available Count\"] == 1) & (df[\"log_score\"] == -1)])"
   ]
  },
  {
   "cell_type": "code",
   "execution_count": 43,
   "metadata": {},
   "outputs": [
    {
     "data": {
      "text/plain": [
       "946"
      ]
     },
     "execution_count": 43,
     "metadata": {},
     "output_type": "execute_result"
    }
   ],
   "source": [
    "len(df) - len(df[df['log_score'] >= 0])"
   ]
  },
  {
   "cell_type": "code",
   "execution_count": 8,
   "metadata": {},
   "outputs": [],
   "source": [
    "positive_df = (df[df['log_score'] >= 0])"
   ]
  },
  {
   "cell_type": "code",
   "execution_count": 9,
   "metadata": {},
   "outputs": [],
   "source": [
    "q_exp_df = positive_df.groupby('Q_Id').first().reset_index()\n",
    "q_exp_df.to_json(\"/home/st-gorbatovski/sollama/data/processed/tanh_score/python_basics/unique_q_to_gen.json\", orient='records')"
   ]
  },
  {
   "cell_type": "code",
   "execution_count": 10,
   "metadata": {},
   "outputs": [
    {
     "data": {
      "text/plain": [
       "21480"
      ]
     },
     "execution_count": 10,
     "metadata": {},
     "output_type": "execute_result"
    }
   ],
   "source": [
    "len(q_exp_df)"
   ]
  },
  {
   "cell_type": "code",
   "execution_count": 45,
   "metadata": {},
   "outputs": [
    {
     "name": "stdout",
     "output_type": "stream",
     "text": [
      "16750\n",
      "9971\n",
      "2317\n"
     ]
    }
   ],
   "source": [
    "print(len(positive_df[positive_df[\"Available Count\"] == 1]))\n",
    "print(len(positive_df[(positive_df[\"Available Count\"] > 1) & (positive_df[\"Available Count\"] < 5)]))\n",
    "print(len(positive_df[positive_df[\"Available Count\"] >= 5]))"
   ]
  },
  {
   "cell_type": "markdown",
   "metadata": {},
   "source": [
    "## Dataset building"
   ]
  },
  {
   "cell_type": "code",
   "execution_count": 1,
   "metadata": {},
   "outputs": [
    {
     "name": "stderr",
     "output_type": "stream",
     "text": [
      "/home/st-gorbatovski/.conda/envs/gorbatovski_env/lib/python3.10/site-packages/tqdm/auto.py:21: TqdmWarning: IProgress not found. Please update jupyter and ipywidgets. See https://ipywidgets.readthedocs.io/en/stable/user_install.html\n",
      "  from .autonotebook import tqdm as notebook_tqdm\n"
     ]
    }
   ],
   "source": [
    "from datasets import load_dataset\n",
    "import pandas as pd"
   ]
  },
  {
   "cell_type": "code",
   "execution_count": 7,
   "metadata": {},
   "outputs": [],
   "source": [
    "paraphrased_df = pd.read_csv(\"/home/st-gorbatovski/sollama/t5_paraphraser/SO-Python_basics_QA-filtered-2023-tanh_score_paraphrased_data.csv\", lineterminator='\\n')"
   ]
  },
  {
   "cell_type": "code",
   "execution_count": 8,
   "metadata": {},
   "outputs": [],
   "source": [
    "gen_df = pd.read_csv(\n",
    "    \"/home/st-gorbatovski/sollama/src/sft/artifacts/generation/gen-LoRA_llama_no_0_scores-7b-max_prompt_length_512-t_09-basics.csv\",\n",
    "    lineterminator=\"\\n\",\n",
    ")"
   ]
  },
  {
   "cell_type": "code",
   "execution_count": 9,
   "metadata": {},
   "outputs": [
    {
     "name": "stderr",
     "output_type": "stream",
     "text": [
      "Found cached dataset json (/home/st-gorbatovski/.cache/huggingface/datasets/Myashka___json/Myashka--SO-Python_basics_QA-filtered-2023-tanh_score-65cea773c91b5e47/0.0.0/8bb11242116d547c741b2e8a1f18598ffdd40a1d4f2a2872c7a28b697434bc96)\n",
      "100%|██████████| 3/3 [00:00<00:00, 503.54it/s]"
     ]
    },
    {
     "name": "stdout",
     "output_type": "stream",
     "text": [
      "Index(['Question', 'Answer', 'CreationDate', 'Users Score', 'Q_Id',\n",
      "       'AnswerCount', 'Tags', 'Score', 'Title', 'ViewCount', 'is_accepted',\n",
      "       'Available Count', 'Q_Score', 'A_Id', 'log_score'],\n",
      "      dtype='object')\n"
     ]
    },
    {
     "name": "stderr",
     "output_type": "stream",
     "text": [
      "\n"
     ]
    }
   ],
   "source": [
    "dataset = load_dataset(\"Myashka/SO-Python_basics_QA-filtered-2023-tanh_score\")\n",
    "\n",
    "df = pd.concat([dataset[\"train\"].to_pandas(), dataset[\"validation\"].to_pandas(), dataset[\"test\"].to_pandas()], ignore_index=True)\n",
    "print(df.columns)"
   ]
  },
  {
   "cell_type": "markdown",
   "metadata": {},
   "source": [
    "## Paraphrase adding"
   ]
  },
  {
   "cell_type": "markdown",
   "metadata": {},
   "source": [
    "## Making pairs"
   ]
  },
  {
   "cell_type": "code",
   "execution_count": 16,
   "metadata": {},
   "outputs": [],
   "source": [
    "gen_df['is_accepted'] = False\n",
    "gen_df['is_generated'] = True\n",
    "gen_df['is_paraphrased'] = False\n",
    "\n",
    "paraphrased_df['is_paraphrased'] = True\n",
    "paraphrased_df['is_generated'] = False\n",
    "\n",
    "df['is_generated'] = False\n",
    "df['is_paraphrased'] = False"
   ]
  },
  {
   "cell_type": "code",
   "execution_count": 18,
   "metadata": {},
   "outputs": [
    {
     "data": {
      "text/plain": [
       "Index(['Question', 'Answer', 'CreationDate', 'Users Score', 'Q_Id',\n",
       "       'AnswerCount', 'Tags', 'Score', 'Title', 'ViewCount', 'is_accepted',\n",
       "       'Available Count', 'Q_Score', 'A_Id', 'log_score', 'Par_A_Id',\n",
       "       'Paraphrased Answer', 'is_paraphrased', 'is_generated'],\n",
       "      dtype='object')"
      ]
     },
     "execution_count": 18,
     "metadata": {},
     "output_type": "execute_result"
    }
   ],
   "source": [
    "paraphrased_df.columns"
   ]
  },
  {
   "cell_type": "code",
   "execution_count": 19,
   "metadata": {},
   "outputs": [],
   "source": [
    "del gen_df[\"Answer\"], paraphrased_df[\"Answer\"]\n",
    "gen_df.rename(columns={\"Generated Answer\": \"Answer\"}, inplace=True)\n",
    "paraphrased_df.rename(columns={\"Paraphrased Answer\": \"Answer\"}, inplace=True)\n",
    "gen_df[\"Score\"] = -1\n",
    "gen_df[\"log_score\"] = -1\n",
    "del (\n",
    "    gen_df[\"Users Score\"],\n",
    "    gen_df[\"Gen_Q_Id\"],\n",
    "    paraphrased_df[\"Par_A_Id\"],\n",
    "    paraphrased_df[\"Users Score\"],\n",
    "    paraphrased_df[\"Available Count\"],\n",
    "    paraphrased_df[\"A_Id\"],\n",
    "    paraphrased_df[\"AnswerCount\"],\n",
    "    paraphrased_df[\"Q_Score\"],\n",
    "    paraphrased_df[\"ViewCount\"],\n",
    "    paraphrased_df[\"Tags\"],\n",
    "    df[\"Users Score\"],\n",
    "    df[\"Available Count\"],\n",
    "    df[\"A_Id\"],\n",
    "    df[\"AnswerCount\"],\n",
    "    df[\"Q_Score\"],\n",
    "    df[\"ViewCount\"],\n",
    "    df[\"Tags\"],\n",
    ")"
   ]
  },
  {
   "cell_type": "code",
   "execution_count": 20,
   "metadata": {},
   "outputs": [
    {
     "name": "stdout",
     "output_type": "stream",
     "text": [
      "29984\n",
      "6955\n"
     ]
    },
    {
     "data": {
      "text/html": [
       "<div>\n",
       "<style scoped>\n",
       "    .dataframe tbody tr th:only-of-type {\n",
       "        vertical-align: middle;\n",
       "    }\n",
       "\n",
       "    .dataframe tbody tr th {\n",
       "        vertical-align: top;\n",
       "    }\n",
       "\n",
       "    .dataframe thead th {\n",
       "        text-align: right;\n",
       "    }\n",
       "</style>\n",
       "<table border=\"1\" class=\"dataframe\">\n",
       "  <thead>\n",
       "    <tr style=\"text-align: right;\">\n",
       "      <th></th>\n",
       "      <th>Question</th>\n",
       "      <th>Answer</th>\n",
       "      <th>CreationDate</th>\n",
       "      <th>Q_Id</th>\n",
       "      <th>Score</th>\n",
       "      <th>Title</th>\n",
       "      <th>is_accepted</th>\n",
       "      <th>log_score</th>\n",
       "      <th>is_generated</th>\n",
       "      <th>is_paraphrased</th>\n",
       "    </tr>\n",
       "  </thead>\n",
       "  <tbody>\n",
       "    <tr>\n",
       "      <th>0</th>\n",
       "      <td>In many places, (1,2,3) (a tuple) and [1,2,3] ...</td>\n",
       "      <td>(1,2,3) and [1,2,3] can be used interchangeabl...</td>\n",
       "      <td>2008-08-05T07:18:00.000</td>\n",
       "      <td>1983</td>\n",
       "      <td>0.022219</td>\n",
       "      <td>Python: what is the difference between (1,2,3)...</td>\n",
       "      <td>False</td>\n",
       "      <td>2</td>\n",
       "      <td>False</td>\n",
       "      <td>False</td>\n",
       "    </tr>\n",
       "  </tbody>\n",
       "</table>\n",
       "</div>"
      ],
      "text/plain": [
       "                                            Question  \\\n",
       "0  In many places, (1,2,3) (a tuple) and [1,2,3] ...   \n",
       "\n",
       "                                              Answer             CreationDate  \\\n",
       "0  (1,2,3) and [1,2,3] can be used interchangeabl...  2008-08-05T07:18:00.000   \n",
       "\n",
       "   Q_Id     Score                                              Title  \\\n",
       "0  1983  0.022219  Python: what is the difference between (1,2,3)...   \n",
       "\n",
       "   is_accepted  log_score  is_generated  is_paraphrased  \n",
       "0        False          2         False           False  "
      ]
     },
     "execution_count": 20,
     "metadata": {},
     "output_type": "execute_result"
    }
   ],
   "source": [
    "print(len(df))\n",
    "print(len(df[df['is_accepted'] == True]))\n",
    "df.head(1)"
   ]
  },
  {
   "cell_type": "code",
   "execution_count": 7,
   "metadata": {},
   "outputs": [
    {
     "data": {
      "text/plain": [
       "29984"
      ]
     },
     "execution_count": 7,
     "metadata": {},
     "output_type": "execute_result"
    }
   ],
   "source": [
    "len(df)"
   ]
  },
  {
   "cell_type": "code",
   "execution_count": 21,
   "metadata": {},
   "outputs": [],
   "source": [
    "combined_df = pd.concat((df, gen_df, paraphrased_df), ignore_index=True).sort_values([\"CreationDate\", \"Q_Id\"]).reset_index(drop=True)"
   ]
  },
  {
   "cell_type": "code",
   "execution_count": 25,
   "metadata": {},
   "outputs": [],
   "source": [
    "def binary_comparison(scores):\n",
    "    \"\"\"Returns tuples of responses, where the first response always has a higher score than the second.\"\"\"\n",
    "    pairs = []\n",
    "\n",
    "    for i in range(len(scores) - 1):\n",
    "        for j in range(i + 1, len(scores)):\n",
    "            if scores[i] > scores[j]:\n",
    "                pairs.append((i, j))\n",
    "\n",
    "    return pairs\n",
    "\n",
    "\n",
    "def generate_response_pairs(df):\n",
    "    MAX_PAIRS_PER_QUESTION = 50\n",
    "\n",
    "    new_data = {\n",
    "        \"CreationDate\": [],\n",
    "        \"Question\": [],\n",
    "        \"Title\": [],\n",
    "        \"Q_Id\": [],\n",
    "        \"response_j\": [],\n",
    "        \"response_k\": [],\n",
    "        \"is_gen_j\": [],\n",
    "        \"is_gen_k\": [],\n",
    "        \"is_par_j\": [],\n",
    "        \"is_par_k\": [],\n",
    "        \"log_score_j\": [],\n",
    "        \"log_score_k\": [],\n",
    "    }\n",
    "\n",
    "    for _, group in df.groupby(\"Q_Id\"):\n",
    "        scores = group[\"log_score\"].tolist()\n",
    "        if len(scores) == 1:\n",
    "            continue\n",
    "        pairs = binary_comparison(scores)\n",
    "\n",
    "        # if len(pairs) > MAX_PAIRS_PER_QUESTION:\n",
    "        #     indices = np.random.choice(\n",
    "        #         list(range(len(pairs))), MAX_PAIRS_PER_QUESTION, replace=False\n",
    "        #     )\n",
    "        #     pairs = [pairs[i] for i in indices]\n",
    "\n",
    "        for pair in pairs:\n",
    "            idx_j, idx_k = pair\n",
    "            new_data[\"Question\"].append(group.iloc[0][\"Question\"])\n",
    "            new_data[\"Title\"].append(group.iloc[0][\"Title\"])\n",
    "            new_data[\"Q_Id\"].append(group.iloc[0][\"Q_Id\"])\n",
    "            new_data[\"CreationDate\"].append(group.iloc[0][\"CreationDate\"])\n",
    "            new_data[\"response_j\"].append(group.iloc[idx_j][\"Answer\"])\n",
    "            new_data[\"response_k\"].append(group.iloc[idx_k][\"Answer\"])\n",
    "            new_data[\"is_gen_j\"].append(group.iloc[idx_j][\"is_generated\"])\n",
    "            new_data[\"is_gen_k\"].append(group.iloc[idx_k][\"is_generated\"])\n",
    "            new_data[\"is_par_j\"].append(group.iloc[idx_j][\"is_paraphrased\"])\n",
    "            new_data[\"is_par_k\"].append(group.iloc[idx_k][\"is_paraphrased\"])\n",
    "            new_data[\"log_score_j\"].append(group.iloc[idx_j][\"log_score\"])\n",
    "            new_data[\"log_score_k\"].append(group.iloc[idx_k][\"log_score\"])\n",
    "\n",
    "    return pd.DataFrame(new_data)"
   ]
  },
  {
   "cell_type": "code",
   "execution_count": 14,
   "metadata": {},
   "outputs": [],
   "source": [
    "# human_preferences_df = generate_response_pairs(df)"
   ]
  },
  {
   "cell_type": "code",
   "execution_count": 26,
   "metadata": {},
   "outputs": [],
   "source": [
    "paired_df = generate_response_pairs(combined_df)"
   ]
  },
  {
   "cell_type": "code",
   "execution_count": 29,
   "metadata": {},
   "outputs": [
    {
     "data": {
      "text/plain": [
       "Index(['CreationDate', 'Question', 'Title', 'Q_Id', 'response_j', 'response_k',\n",
       "       'is_gen_j', 'is_gen_k', 'is_par_j', 'is_par_k', 'log_score_j',\n",
       "       'log_score_k'],\n",
       "      dtype='object')"
      ]
     },
     "execution_count": 29,
     "metadata": {},
     "output_type": "execute_result"
    }
   ],
   "source": [
    "paired_df.columns"
   ]
  },
  {
   "cell_type": "code",
   "execution_count": 34,
   "metadata": {},
   "outputs": [],
   "source": [
    "paired_df.to_json(\"/home/st-gorbatovski/sollama/data/processed/tanh_score/python_basics/reward/train.json\", orient=\"records\")"
   ]
  },
  {
   "cell_type": "code",
   "execution_count": 36,
   "metadata": {},
   "outputs": [
    {
     "name": "stderr",
     "output_type": "stream",
     "text": [
      "Found cached dataset json (/home/st-gorbatovski/.cache/huggingface/datasets/json/default-4b747ab14d149075/0.0.0/8bb11242116d547c741b2e8a1f18598ffdd40a1d4f2a2872c7a28b697434bc96)\n",
      "100%|██████████| 1/1 [00:00<00:00, 192.63it/s]\n"
     ]
    }
   ],
   "source": [
    "data = load_dataset('json', data_files=\"/home/st-gorbatovski/sollama/data/processed/tanh_score/python_basics/reward/train.json\")['train']"
   ]
  },
  {
   "cell_type": "code",
   "execution_count": 38,
   "metadata": {},
   "outputs": [
    {
     "name": "stderr",
     "output_type": "stream",
     "text": [
      "                                                                         \r"
     ]
    }
   ],
   "source": [
    "any_dataset = data.filter(lambda x: (x[\"is_gen_k\"] or x[\"is_gen_j\"] or x[\"is_par_k\"] or x[\"is_par_j\"]))\n",
    "so_dataset = data.filter(lambda x: not (x[\"is_gen_k\"] or x[\"is_gen_j\"] or x[\"is_par_k\"] or x[\"is_par_j\"]))"
   ]
  },
  {
   "cell_type": "code",
   "execution_count": 41,
   "metadata": {},
   "outputs": [
    {
     "name": "stdout",
     "output_type": "stream",
     "text": [
      "185140\n",
      "185140\n"
     ]
    }
   ],
   "source": [
    "print(len(data))\n",
    "print(len(any_dataset) + len(so_dataset))"
   ]
  },
  {
   "cell_type": "markdown",
   "metadata": {},
   "source": [
    "## Paraphrasing SFT dataset"
   ]
  },
  {
   "cell_type": "code",
   "execution_count": 3,
   "metadata": {},
   "outputs": [
    {
     "name": "stderr",
     "output_type": "stream",
     "text": [
      "Found cached dataset json (/home/st-gorbatovski/.cache/huggingface/datasets/Myashka___json/Myashka--SO-Python_basics_QA-filtered-2023-tanh_score-65cea773c91b5e47/0.0.0/8bb11242116d547c741b2e8a1f18598ffdd40a1d4f2a2872c7a28b697434bc96)\n",
      "100%|██████████| 3/3 [00:00<00:00, 154.35it/s]"
     ]
    },
    {
     "name": "stdout",
     "output_type": "stream",
     "text": [
      "Index(['Question', 'Answer', 'CreationDate', 'Users Score', 'Q_Id',\n",
      "       'AnswerCount', 'Tags', 'Score', 'Title', 'ViewCount', 'is_accepted',\n",
      "       'Available Count', 'Q_Score', 'A_Id', 'log_score'],\n",
      "      dtype='object')\n"
     ]
    },
    {
     "name": "stderr",
     "output_type": "stream",
     "text": [
      "\n"
     ]
    }
   ],
   "source": [
    "dataset = load_dataset(\"Myashka/SO-Python_basics_QA-filtered-2023-tanh_score\")\n",
    "\n",
    "df = pd.concat([dataset[\"train\"].to_pandas(), dataset[\"validation\"].to_pandas()], ignore_index=True)\n",
    "print(df.columns)"
   ]
  },
  {
   "cell_type": "code",
   "execution_count": 7,
   "metadata": {},
   "outputs": [],
   "source": [
    "test_df = dataset[\"test\"].to_pandas()"
   ]
  },
  {
   "cell_type": "code",
   "execution_count": 4,
   "metadata": {},
   "outputs": [],
   "source": [
    "paraphrased_df = pd.read_csv(\"/home/st-gorbatovski/sollama/t5_paraphraser/SO-Python_basics_QA-filtered-2023-tanh_score_paraphrased_data.csv\", lineterminator='\\n')"
   ]
  },
  {
   "cell_type": "code",
   "execution_count": 8,
   "metadata": {},
   "outputs": [],
   "source": [
    "paraphrased_df['is_paraphrased'] = True\n",
    "df['is_paraphrased'] = False\n",
    "test_df['is_paraphrased'] = False"
   ]
  },
  {
   "cell_type": "code",
   "execution_count": 9,
   "metadata": {},
   "outputs": [],
   "source": [
    "del paraphrased_df[\"Answer\"]\n",
    "paraphrased_df.rename(columns={\"Paraphrased Answer\": \"Answer\"}, inplace=True)"
   ]
  },
  {
   "cell_type": "code",
   "execution_count": 13,
   "metadata": {},
   "outputs": [],
   "source": [
    "paraphrased_df = paraphrased_df[paraphrased_df[\"Q_Id\"].isin(df['Q_Id'])]"
   ]
  },
  {
   "cell_type": "code",
   "execution_count": 19,
   "metadata": {},
   "outputs": [],
   "source": [
    "del paraphrased_df[\"Par_A_Id\"]"
   ]
  },
  {
   "cell_type": "code",
   "execution_count": 28,
   "metadata": {},
   "outputs": [],
   "source": [
    "combined_df = pd.concat((df, paraphrased_df), ignore_index=True).sort_values([\"CreationDate\", \"Q_Id\"]).reset_index(drop=True)"
   ]
  },
  {
   "cell_type": "code",
   "execution_count": 30,
   "metadata": {},
   "outputs": [
    {
     "name": "stderr",
     "output_type": "stream",
     "text": [
      "/tmp/ipykernel_3844916/3886066389.py:1: FutureWarning: Not prepending group keys to the result index of transform-like apply. In the future, the group keys will be included in the index, regardless of whether the applied function returns a like-indexed object.\n",
      "To preserve the previous behavior, use\n",
      "\n",
      "\t>>> .groupby(..., group_keys=False)\n",
      "\n",
      "To adopt the future behavior and silence this warning, use \n",
      "\n",
      "\t>>> .groupby(..., group_keys=True)\n",
      "  grouped = combined_df.groupby('Q_Id').apply(lambda x: x)\n"
     ]
    }
   ],
   "source": [
    "grouped = combined_df.groupby('Q_Id').apply(lambda x: x)\n",
    "train_df = grouped.iloc[:-500]\n",
    "val_df = grouped.iloc[-500:]"
   ]
  },
  {
   "cell_type": "code",
   "execution_count": 36,
   "metadata": {},
   "outputs": [],
   "source": [
    "train_df.to_json('/home/st-gorbatovski/sollama/data/processed/tanh_score/python_basics/sft_paraphrased/train.json', orient='records')\n",
    "val_df.to_json('/home/st-gorbatovski/sollama/data/processed/tanh_score/python_basics/sft_paraphrased/validation.json', orient='records')\n",
    "test_df.to_json('/home/st-gorbatovski/sollama/data/processed/tanh_score/python_basics/sft_paraphrased/test.json', orient='records')"
   ]
  },
  {
   "cell_type": "code",
   "execution_count": 37,
   "metadata": {},
   "outputs": [
    {
     "name": "stdout",
     "output_type": "stream",
     "text": [
      "Downloading and preparing dataset json/default to /home/st-gorbatovski/.cache/huggingface/datasets/json/default-a7906e6dca24a7e3/0.0.0/8bb11242116d547c741b2e8a1f18598ffdd40a1d4f2a2872c7a28b697434bc96...\n"
     ]
    },
    {
     "name": "stderr",
     "output_type": "stream",
     "text": [
      "Downloading data files: 100%|██████████| 3/3 [00:00<00:00, 7157.52it/s]\n",
      "Extracting data files: 100%|██████████| 3/3 [00:00<00:00, 1731.99it/s]\n",
      "                                                                    \r"
     ]
    },
    {
     "name": "stdout",
     "output_type": "stream",
     "text": [
      "Dataset json downloaded and prepared to /home/st-gorbatovski/.cache/huggingface/datasets/json/default-a7906e6dca24a7e3/0.0.0/8bb11242116d547c741b2e8a1f18598ffdd40a1d4f2a2872c7a28b697434bc96. Subsequent calls will reuse this data.\n"
     ]
    },
    {
     "name": "stderr",
     "output_type": "stream",
     "text": [
      "100%|██████████| 3/3 [00:00<00:00, 314.38it/s]\n"
     ]
    }
   ],
   "source": [
    "dataset = load_dataset(\n",
    "    \"json\",\n",
    "    data_files={\n",
    "        \"train\": \"/home/st-gorbatovski/sollama/data/processed/tanh_score/python_basics/sft_paraphrased/train.json\",\n",
    "        \"validation\": \"/home/st-gorbatovski/sollama/data/processed/tanh_score/python_basics/sft_paraphrased/validation.json\",\n",
    "        \"test\": \"/home/st-gorbatovski/sollama/data/processed/tanh_score/python_basics/sft_paraphrased/test.json\",\n",
    "    },\n",
    ")"
   ]
  },
  {
   "cell_type": "code",
   "execution_count": null,
   "metadata": {},
   "outputs": [],
   "source": []
  }
 ],
 "metadata": {
  "kernelspec": {
   "display_name": "gorbatovski_env",
   "language": "python",
   "name": "python3"
  },
  "language_info": {
   "codemirror_mode": {
    "name": "ipython",
    "version": 3
   },
   "file_extension": ".py",
   "mimetype": "text/x-python",
   "name": "python",
   "nbconvert_exporter": "python",
   "pygments_lexer": "ipython3",
   "version": "3.10.11"
  },
  "orig_nbformat": 4
 },
 "nbformat": 4,
 "nbformat_minor": 2
}
