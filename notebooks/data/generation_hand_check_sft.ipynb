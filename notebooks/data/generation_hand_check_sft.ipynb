{
 "cells": [
  {
   "cell_type": "code",
   "execution_count": 1,
   "metadata": {},
   "outputs": [],
   "source": [
    "import pandas as pd\n",
    "import numpy as np"
   ]
  },
  {
   "cell_type": "code",
   "execution_count": 5,
   "metadata": {},
   "outputs": [],
   "source": [
    "gen_sft_base_df = pd.read_csv(\"/home/st-gorbatovski/sollama/src/sft/artifacts/tests/python_basics/test-base_llama-7b-max_prompt_length_512-basics-t_09-3_attepts.csv\").sort_values([\"Gen_Q_Id\", \"log_score\"])\n",
    "gen_sft_lora_merged_df = pd.read_csv(\"/home/st-gorbatovski/sollama/src/sft/artifacts/tests/python_basics/test-LoRA_llama-7b-bs_64-lr_1e4-basics-no_zero-v4-t_09-3_attepmts-merged.csv\").sort_values([\"Gen_Q_Id\", \"log_score\"])\n",
    "gen_sft_lora_par_df = pd.read_csv(\"/home/st-gorbatovski/sollama/src/sft/artifacts/tests/python_basics/test-sft-LoRA_llama-7b-max_prompt_length_512-t_09-basics-paraphrased-3_attempts.csv\").sort_values([\"Gen_Q_Id\", \"log_score\"])\n",
    "\n",
    "gen_rlhf_dot_prod_cos_sim_length_penalty = pd.read_csv(\"/home/st-gorbatovski/sollama/src/sft/artifacts/tests/python_basics/rlhf/test-rlhf-LoRA_llama-7b-t_09-basics-mpnet_dot_prod_so_par-cos_sim-length_penalty-step_261-mean_reward_0.48-3_attempts.csv\").sort_values([\"Gen_Q_Id\", \"log_score\"])\n",
    "\n",
    "gen_sft_base_df = gen_sft_base_df[gen_sft_base_df[\"log_score\"] >= 0].reset_index(drop=True)\n",
    "gen_sft_lora_merged_df = gen_sft_lora_merged_df[gen_sft_lora_merged_df[\"log_score\"] >= 0].reset_index(drop=True)\n",
    "gen_sft_lora_par_df = gen_sft_lora_par_df[gen_sft_lora_par_df[\"log_score\"] >= 0].reset_index(drop=True)\n",
    "gen_rlhf_dot_prod_cos_sim_length_penalty = gen_rlhf_dot_prod_cos_sim_length_penalty[gen_rlhf_dot_prod_cos_sim_length_penalty[\"log_score\"] >= 0].reset_index(drop=True)"
   ]
  },
  {
   "cell_type": "code",
   "execution_count": 3,
   "metadata": {},
   "outputs": [],
   "source": [
    "# gen_sft_base_df['Gen_Q_Id'] = gen_sft_base_df.groupby('Q_Id').cumcount()\n",
    "# gen_sft_lora_merged_df['Gen_Q_Id'] = gen_sft_lora_merged_df.groupby('Q_Id').cumcount()\n",
    "\n",
    "# gen_rlhf_dot_prod_cos_sim_length_penalty['Gen_Q_Id'] = gen_rlhf_dot_prod_cos_sim_length_penalty.groupby('Q_Id').cumcount()"
   ]
  },
  {
   "cell_type": "code",
   "execution_count": 6,
   "metadata": {},
   "outputs": [],
   "source": [
    "def get_latest_100_q_ids(df):\n",
    "    unique_q_ids = df.sort_values(by=\"CreationDate\", ascending=False)[\"Q_Id\"].unique()\n",
    "    return unique_q_ids[:100]\n",
    "\n",
    "latest_100_q_ids_base = get_latest_100_q_ids(gen_sft_base_df)\n",
    "latest_100_q_ids_lora = get_latest_100_q_ids(gen_sft_lora_merged_df)\n",
    "latest_100_q_ids_lora_par = get_latest_100_q_ids(gen_sft_lora_par_df)\n",
    "\n",
    "latest_100_q_ids_rlhf = get_latest_100_q_ids(gen_rlhf_dot_prod_cos_sim_length_penalty)"
   ]
  },
  {
   "cell_type": "code",
   "execution_count": 7,
   "metadata": {},
   "outputs": [],
   "source": [
    "def filter_and_reset(df, q_ids):\n",
    "    df = df[df[\"Q_Id\"].isin(q_ids)]\n",
    "    df = df.groupby(\"Q_Id\").head(3).reset_index(drop=True)\n",
    "    df[\"Gen_Q_Id\"] = df.groupby(\"Q_Id\").cumcount()\n",
    "    return df\n",
    "\n",
    "gen_sft_base_df_filtered = filter_and_reset(gen_sft_base_df, latest_100_q_ids_base)\n",
    "gen_sft_lora_merged_df_filtered = filter_and_reset(gen_sft_lora_merged_df, latest_100_q_ids_lora)\n",
    "gen_sft_lora_par_df_filtered = filter_and_reset(gen_sft_lora_par_df, latest_100_q_ids_lora_par)\n",
    "\n",
    "gen_rlhf_dot_prod_cos_sim_length_penalty_filtered = filter_and_reset(gen_rlhf_dot_prod_cos_sim_length_penalty, latest_100_q_ids_rlhf)"
   ]
  },
  {
   "cell_type": "code",
   "execution_count": 59,
   "metadata": {},
   "outputs": [],
   "source": [
    "gen_sft_lora_merged_df_filtered.to_csv(\"/home/st-gorbatovski/sollama/src/sft/artifacts/tests/python_basics/hand_check/test-LoRA_llama-7b-bs_64-lr_1e4-basics-no_zero-v4-t_09-3_attepmts-merged.csv\", index=False)\n",
    "gen_sft_base_df_filtered.to_csv(\"/home/st-gorbatovski/sollama/src/sft/artifacts/tests/python_basics/hand_check/test-base_llama-7b-bs_64-basics-t_09-3_attepmts.csv\", index=False)"
   ]
  },
  {
   "cell_type": "code",
   "execution_count": 11,
   "metadata": {},
   "outputs": [],
   "source": [
    "gen_sft_lora_par_df_filtered.to_csv(\"/home/st-gorbatovski/sollama/src/sft/artifacts/tests/python_basics/hand_check/test-sft-LoRA_llama-7b-max_prompt_length_512-t_09-basics-paraphrased-3_attempts.csv\", index=False)"
   ]
  },
  {
   "cell_type": "code",
   "execution_count": 10,
   "metadata": {},
   "outputs": [],
   "source": [
    "gen_rlhf_dot_prod_cos_sim_length_penalty_filtered.to_csv(\"/home/st-gorbatovski/sollama/src/sft/artifacts/tests/python_basics/hand_check/test-rlhf-LoRA_llama-7b-t_09-basics-mpnet_dot_prod_so_par-cos_sim-length_penalty-step_261-mean_reward_0.48-3_attempts.csv\", index=False)"
   ]
  },
  {
   "cell_type": "code",
   "execution_count": null,
   "metadata": {},
   "outputs": [],
   "source": []
  }
 ],
 "metadata": {
  "kernelspec": {
   "display_name": "gorbatovski_env",
   "language": "python",
   "name": "python3"
  },
  "language_info": {
   "codemirror_mode": {
    "name": "ipython",
    "version": 3
   },
   "file_extension": ".py",
   "mimetype": "text/x-python",
   "name": "python",
   "nbconvert_exporter": "python",
   "pygments_lexer": "ipython3",
   "version": "3.10.11"
  },
  "orig_nbformat": 4
 },
 "nbformat": 4,
 "nbformat_minor": 2
}
