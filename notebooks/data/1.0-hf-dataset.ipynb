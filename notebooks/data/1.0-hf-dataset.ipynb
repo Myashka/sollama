{
  "nbformat": 4,
  "nbformat_minor": 0,
  "metadata": {
    "colab": {
      "provenance": []
    },
    "kernelspec": {
      "name": "python3",
      "display_name": "Python 3"
    },
    "language_info": {
      "name": "python"
    }
  },
  "cells": [
    {
      "cell_type": "code",
      "execution_count": null,
      "metadata": {
        "id": "XbY1jlkk3heI"
      },
      "outputs": [],
      "source": [
        "!pip install transformers datasets"
      ]
    },
    {
      "cell_type": "code",
      "source": [
        "from datasets import load_dataset"
      ],
      "metadata": {
        "id": "0wvaGKsd4ORG"
      },
      "execution_count": 2,
      "outputs": []
    },
    {
      "cell_type": "code",
      "source": [
        "import json\n",
        "import pandas as pd"
      ],
      "metadata": {
        "id": "Yf7CpfZq5INp"
      },
      "execution_count": 3,
      "outputs": []
    },
    {
      "cell_type": "code",
      "source": [
        "df = pd.read_csv(r'/content/1.0-all_data-api_usage-tanh_score.csv',  engine='python', index_col=0).iloc[:, :-7]"
      ],
      "metadata": {
        "id": "4vE5rqdeyU1W"
      },
      "execution_count": 16,
      "outputs": []
    },
    {
      "cell_type": "code",
      "source": [
        "df.head()"
      ],
      "metadata": {
        "colab": {
          "base_uri": "https://localhost:8080/",
          "height": 337
        },
        "id": "WkieM_zr5ypA",
        "outputId": "23a9d1e5-738b-4874-fadd-a698821267e9"
      },
      "execution_count": 17,
      "outputs": [
        {
          "output_type": "execute_result",
          "data": {
            "text/plain": [
              "            Q_CreationDate                                              Title  \\\n",
              "0  2008-08-05 22:26:00.797  Create a directly-executable cross-platform GU...   \n",
              "1  2008-08-05 22:26:00.797  Create a directly-executable cross-platform GU...   \n",
              "2  2008-08-22 10:51:19.057  How do content discovery engines, like Zemanta...   \n",
              "3  2008-08-22 15:34:13.760                  How to download a file over HTTP?   \n",
              "4  2008-08-29 04:59:31.200  Find out how much memory is being used by an o...   \n",
              "\n",
              "                                            Question  \\\n",
              "0  Python works on multiple platforms and can be ...   \n",
              "1  Python works on multiple platforms and can be ...   \n",
              "2  I was wondering how as semantic service like O...   \n",
              "3  I have a small utility that I use to download ...   \n",
              "4  How would you go about finding out how much me...   \n",
              "\n",
              "                                              Answer     Score  Is_accepted  \\\n",
              "0  Since python is installed on nearly every non-...  0.186186        False   \n",
              "1  I'm not sure that this is the best way to do i...  0.124933        False   \n",
              "2  Open Calais probably use language parsing tech...  0.000000        False   \n",
              "3  Following are the most commonly used calls for...  0.293455        False   \n",
              "4  For big objects you may use a somewhat crude b...  0.161830        False   \n",
              "\n",
              "   N_answers  Q_Id  \n",
              "0          2     4  \n",
              "1          2     4  \n",
              "2          1    17  \n",
              "3          1    18  \n",
              "4          1    30  "
            ],
            "text/html": [
              "\n",
              "  <div id=\"df-ffa79246-fd6d-4d88-982e-4955bb4989b9\">\n",
              "    <div class=\"colab-df-container\">\n",
              "      <div>\n",
              "<style scoped>\n",
              "    .dataframe tbody tr th:only-of-type {\n",
              "        vertical-align: middle;\n",
              "    }\n",
              "\n",
              "    .dataframe tbody tr th {\n",
              "        vertical-align: top;\n",
              "    }\n",
              "\n",
              "    .dataframe thead th {\n",
              "        text-align: right;\n",
              "    }\n",
              "</style>\n",
              "<table border=\"1\" class=\"dataframe\">\n",
              "  <thead>\n",
              "    <tr style=\"text-align: right;\">\n",
              "      <th></th>\n",
              "      <th>Q_CreationDate</th>\n",
              "      <th>Title</th>\n",
              "      <th>Question</th>\n",
              "      <th>Answer</th>\n",
              "      <th>Score</th>\n",
              "      <th>Is_accepted</th>\n",
              "      <th>N_answers</th>\n",
              "      <th>Q_Id</th>\n",
              "    </tr>\n",
              "  </thead>\n",
              "  <tbody>\n",
              "    <tr>\n",
              "      <th>0</th>\n",
              "      <td>2008-08-05 22:26:00.797</td>\n",
              "      <td>Create a directly-executable cross-platform GU...</td>\n",
              "      <td>Python works on multiple platforms and can be ...</td>\n",
              "      <td>Since python is installed on nearly every non-...</td>\n",
              "      <td>0.186186</td>\n",
              "      <td>False</td>\n",
              "      <td>2</td>\n",
              "      <td>4</td>\n",
              "    </tr>\n",
              "    <tr>\n",
              "      <th>1</th>\n",
              "      <td>2008-08-05 22:26:00.797</td>\n",
              "      <td>Create a directly-executable cross-platform GU...</td>\n",
              "      <td>Python works on multiple platforms and can be ...</td>\n",
              "      <td>I'm not sure that this is the best way to do i...</td>\n",
              "      <td>0.124933</td>\n",
              "      <td>False</td>\n",
              "      <td>2</td>\n",
              "      <td>4</td>\n",
              "    </tr>\n",
              "    <tr>\n",
              "      <th>2</th>\n",
              "      <td>2008-08-22 10:51:19.057</td>\n",
              "      <td>How do content discovery engines, like Zemanta...</td>\n",
              "      <td>I was wondering how as semantic service like O...</td>\n",
              "      <td>Open Calais probably use language parsing tech...</td>\n",
              "      <td>0.000000</td>\n",
              "      <td>False</td>\n",
              "      <td>1</td>\n",
              "      <td>17</td>\n",
              "    </tr>\n",
              "    <tr>\n",
              "      <th>3</th>\n",
              "      <td>2008-08-22 15:34:13.760</td>\n",
              "      <td>How to download a file over HTTP?</td>\n",
              "      <td>I have a small utility that I use to download ...</td>\n",
              "      <td>Following are the most commonly used calls for...</td>\n",
              "      <td>0.293455</td>\n",
              "      <td>False</td>\n",
              "      <td>1</td>\n",
              "      <td>18</td>\n",
              "    </tr>\n",
              "    <tr>\n",
              "      <th>4</th>\n",
              "      <td>2008-08-29 04:59:31.200</td>\n",
              "      <td>Find out how much memory is being used by an o...</td>\n",
              "      <td>How would you go about finding out how much me...</td>\n",
              "      <td>For big objects you may use a somewhat crude b...</td>\n",
              "      <td>0.161830</td>\n",
              "      <td>False</td>\n",
              "      <td>1</td>\n",
              "      <td>30</td>\n",
              "    </tr>\n",
              "  </tbody>\n",
              "</table>\n",
              "</div>\n",
              "      <button class=\"colab-df-convert\" onclick=\"convertToInteractive('df-ffa79246-fd6d-4d88-982e-4955bb4989b9')\"\n",
              "              title=\"Convert this dataframe to an interactive table.\"\n",
              "              style=\"display:none;\">\n",
              "        \n",
              "  <svg xmlns=\"http://www.w3.org/2000/svg\" height=\"24px\"viewBox=\"0 0 24 24\"\n",
              "       width=\"24px\">\n",
              "    <path d=\"M0 0h24v24H0V0z\" fill=\"none\"/>\n",
              "    <path d=\"M18.56 5.44l.94 2.06.94-2.06 2.06-.94-2.06-.94-.94-2.06-.94 2.06-2.06.94zm-11 1L8.5 8.5l.94-2.06 2.06-.94-2.06-.94L8.5 2.5l-.94 2.06-2.06.94zm10 10l.94 2.06.94-2.06 2.06-.94-2.06-.94-.94-2.06-.94 2.06-2.06.94z\"/><path d=\"M17.41 7.96l-1.37-1.37c-.4-.4-.92-.59-1.43-.59-.52 0-1.04.2-1.43.59L10.3 9.45l-7.72 7.72c-.78.78-.78 2.05 0 2.83L4 21.41c.39.39.9.59 1.41.59.51 0 1.02-.2 1.41-.59l7.78-7.78 2.81-2.81c.8-.78.8-2.07 0-2.86zM5.41 20L4 18.59l7.72-7.72 1.47 1.35L5.41 20z\"/>\n",
              "  </svg>\n",
              "      </button>\n",
              "      \n",
              "  <style>\n",
              "    .colab-df-container {\n",
              "      display:flex;\n",
              "      flex-wrap:wrap;\n",
              "      gap: 12px;\n",
              "    }\n",
              "\n",
              "    .colab-df-convert {\n",
              "      background-color: #E8F0FE;\n",
              "      border: none;\n",
              "      border-radius: 50%;\n",
              "      cursor: pointer;\n",
              "      display: none;\n",
              "      fill: #1967D2;\n",
              "      height: 32px;\n",
              "      padding: 0 0 0 0;\n",
              "      width: 32px;\n",
              "    }\n",
              "\n",
              "    .colab-df-convert:hover {\n",
              "      background-color: #E2EBFA;\n",
              "      box-shadow: 0px 1px 2px rgba(60, 64, 67, 0.3), 0px 1px 3px 1px rgba(60, 64, 67, 0.15);\n",
              "      fill: #174EA6;\n",
              "    }\n",
              "\n",
              "    [theme=dark] .colab-df-convert {\n",
              "      background-color: #3B4455;\n",
              "      fill: #D2E3FC;\n",
              "    }\n",
              "\n",
              "    [theme=dark] .colab-df-convert:hover {\n",
              "      background-color: #434B5C;\n",
              "      box-shadow: 0px 1px 3px 1px rgba(0, 0, 0, 0.15);\n",
              "      filter: drop-shadow(0px 1px 2px rgba(0, 0, 0, 0.3));\n",
              "      fill: #FFFFFF;\n",
              "    }\n",
              "  </style>\n",
              "\n",
              "      <script>\n",
              "        const buttonEl =\n",
              "          document.querySelector('#df-ffa79246-fd6d-4d88-982e-4955bb4989b9 button.colab-df-convert');\n",
              "        buttonEl.style.display =\n",
              "          google.colab.kernel.accessAllowed ? 'block' : 'none';\n",
              "\n",
              "        async function convertToInteractive(key) {\n",
              "          const element = document.querySelector('#df-ffa79246-fd6d-4d88-982e-4955bb4989b9');\n",
              "          const dataTable =\n",
              "            await google.colab.kernel.invokeFunction('convertToInteractive',\n",
              "                                                     [key], {});\n",
              "          if (!dataTable) return;\n",
              "\n",
              "          const docLinkHtml = 'Like what you see? Visit the ' +\n",
              "            '<a target=\"_blank\" href=https://colab.research.google.com/notebooks/data_table.ipynb>data table notebook</a>'\n",
              "            + ' to learn more about interactive tables.';\n",
              "          element.innerHTML = '';\n",
              "          dataTable['output_type'] = 'display_data';\n",
              "          await google.colab.output.renderOutput(dataTable, element);\n",
              "          const docLink = document.createElement('div');\n",
              "          docLink.innerHTML = docLinkHtml;\n",
              "          element.appendChild(docLink);\n",
              "        }\n",
              "      </script>\n",
              "    </div>\n",
              "  </div>\n",
              "  "
            ]
          },
          "metadata": {},
          "execution_count": 17
        }
      ]
    },
    {
      "cell_type": "code",
      "source": [
        "all_data = []\n",
        "all_data.extend(data['train'])\n",
        "all_data.extend(data['val'])\n",
        "all_data.extend(data['test'])"
      ],
      "metadata": {
        "id": "a8UyTcsfyWU9"
      },
      "execution_count": null,
      "outputs": []
    },
    {
      "cell_type": "code",
      "source": [
        "df = pd.DataFrame.from_dict(all_data).iloc[:, :-7]"
      ],
      "metadata": {
        "id": "U3VzhgPEyX3a"
      },
      "execution_count": null,
      "outputs": []
    },
    {
      "cell_type": "code",
      "source": [
        "df['Q_Id'] = df.groupby('Q_CreationDate').ngroup()"
      ],
      "metadata": {
        "id": "gdjyBb-RygPw"
      },
      "execution_count": 18,
      "outputs": []
    },
    {
      "cell_type": "code",
      "source": [
        "import pandas as pd\n",
        "import numpy as np\n",
        "\n",
        "def binary_comparison(answers):\n",
        "    \"\"\"Returns tuples of answers, first always best\"\"\"\n",
        "    pairs = []\n",
        "    \n",
        "    for i in range(len(answers)-1):\n",
        "        for j in range(i+1, len(answers)):\n",
        "            if answers[i][\"Score\"] > answers[j][\"Score\"]:\n",
        "                pairs.append((answers[i][\"Answer\"], answers[j][\"Answer\"]))\n",
        "            elif answers[i][\"Score\"] < answers[j][\"Score\"]:\n",
        "                pairs.append((answers[j][\"Answer\"], answers[i][\"Answer\"]))\n",
        "            else:\n",
        "                # random choice when the scores are equal\n",
        "                if np.random.choice([True, False]):\n",
        "                    pairs.append((answers[i][\"Answer\"], answers[j][\"Answer\"]))\n",
        "                else:\n",
        "                    pairs.append((answers[j][\"Answer\"], answers[i][\"Answer\"]))\n",
        "    return pairs\n",
        "    \n",
        "def preprocess(df):\n",
        "    \"\"\"Returns paired answers (j is better than k).\"\"\"\n",
        "\n",
        "    MAX_PAIRS_PER_QUESTION = 10\n",
        "    \n",
        "    # initialize empty lists for new samples\n",
        "    new_examples = {'q_id': [], 'title': [], \"question\": [], \"response_j\": [], \"response_k\": []}\n",
        "    \n",
        "    for qid in df['Q_Id'].unique():\n",
        "        question_df = df[df['Q_Id'] == qid]\n",
        "        if len(question_df) <= 1:\n",
        "            continue\n",
        "        \n",
        "        # get pairs where first is always the better one\n",
        "        pairs = binary_comparison(question_df.to_dict('records'))\n",
        "        \n",
        "        # sample if we get more pairs than maximum\n",
        "        if len(pairs) > MAX_PAIRS_PER_QUESTION:\n",
        "            indices = np.random.choice(list(range(len(pairs))), MAX_PAIRS_PER_QUESTION, replace=False)\n",
        "            pairs = [pairs[i] for i in indices]\n",
        "        \n",
        "        # construct the samples\n",
        "        for pair in pairs:\n",
        "            new_examples[\"q_id\"].append(question_df.iloc[0]['Q_Id'])\n",
        "            new_examples[\"title\"].append(question_df.iloc[0]['Title'])\n",
        "            new_examples[\"question\"].append(question_df.iloc[0]['Question'])\n",
        "            new_examples[\"response_j\"].append(pair[0])\n",
        "            new_examples[\"response_k\"].append(pair[1])\n",
        "    \n",
        "    return pd.DataFrame(new_examples)\n"
      ],
      "metadata": {
        "id": "Bj15J43DyqS4"
      },
      "execution_count": 60,
      "outputs": []
    },
    {
      "cell_type": "code",
      "source": [
        "contrast_df = preprocess(df)"
      ],
      "metadata": {
        "id": "R4yzgCZdyqJe"
      },
      "execution_count": 61,
      "outputs": []
    },
    {
      "cell_type": "code",
      "source": [
        "contrast_df.to_csv('/content/python-api_usage-contrast-tanh_score.csv', index=False)"
      ],
      "metadata": {
        "id": "ulygw0oJC5BV"
      },
      "execution_count": 67,
      "outputs": []
    },
    {
      "cell_type": "code",
      "source": [
        "len(contrast_df.q_id.unique())"
      ],
      "metadata": {
        "id": "tzmAP-iJyp9F",
        "colab": {
          "base_uri": "https://localhost:8080/"
        },
        "outputId": "5c632aad-0f9f-4b58-f5aa-6fd1daa6eb83"
      },
      "execution_count": 65,
      "outputs": [
        {
          "output_type": "execute_result",
          "data": {
            "text/plain": [
              "1272"
            ]
          },
          "metadata": {},
          "execution_count": 65
        }
      ]
    },
    {
      "cell_type": "code",
      "source": [],
      "metadata": {
        "id": "v8yy791bypdQ"
      },
      "execution_count": null,
      "outputs": []
    },
    {
      "cell_type": "code",
      "source": [
        "import json\n",
        "import pandas as pd"
      ],
      "metadata": {
        "id": "MYVmpCVY53lS"
      },
      "execution_count": null,
      "outputs": []
    },
    {
      "cell_type": "code",
      "source": [
        "train_df = df.iloc[:-3000]\n",
        "val_df = df.iloc[-3000:-2000]\n",
        "test_df = df.iloc[-2000:]"
      ],
      "metadata": {
        "id": "pMUYz9m_yA4Y"
      },
      "execution_count": 36,
      "outputs": []
    },
    {
      "cell_type": "code",
      "source": [
        "train_df.to_csv('/content/train.csv', index=False)\n",
        "val_df.to_csv('/content/validation.csv', index=False)\n",
        "test_df.to_csv('/content/test.csv', index=False)"
      ],
      "metadata": {
        "id": "ostiW-4AxMV5"
      },
      "execution_count": 37,
      "outputs": []
    },
    {
      "cell_type": "code",
      "source": [
        "data_files = {\"train\": '/content/train.csv',\n",
        "              'validation': '/content/validation.csv',\n",
        "              'test': \"/content/test.csv\"}\n",
        "dataset = load_dataset(\"csv\", data_files=data_files, split='test')"
      ],
      "metadata": {
        "id": "1yobnfv5ybR7",
        "colab": {
          "base_uri": "https://localhost:8080/"
        },
        "outputId": "b885c46b-2aca-4dd4-9d2b-21f6ea28e4be"
      },
      "execution_count": 45,
      "outputs": [
        {
          "output_type": "stream",
          "name": "stderr",
          "text": [
            "WARNING:datasets.builder:Found cached dataset csv (/root/.cache/huggingface/datasets/csv/default-112377d4740b7115/0.0.0/6954658bab30a358235fa864b05cf819af0e179325c740e4bc853bcc7ec513e1)\n"
          ]
        }
      ]
    },
    {
      "cell_type": "code",
      "source": [
        "df.columns"
      ],
      "metadata": {
        "colab": {
          "base_uri": "https://localhost:8080/"
        },
        "id": "0DownWcRAwdQ",
        "outputId": "5a6e914b-83f1-4561-ed4d-c036e8bcf436"
      },
      "execution_count": 53,
      "outputs": [
        {
          "output_type": "execute_result",
          "data": {
            "text/plain": [
              "Index(['Q_CreationDate', 'Title', 'Question', 'Answer', 'Score', 'Is_accepted',\n",
              "       'N_answers', 'Q_Id'],\n",
              "      dtype='object')"
            ]
          },
          "metadata": {},
          "execution_count": 53
        }
      ]
    },
    {
      "cell_type": "code",
      "source": [
        "dataset.features"
      ],
      "metadata": {
        "colab": {
          "base_uri": "https://localhost:8080/"
        },
        "id": "zxMzXpwA7cA3",
        "outputId": "205dca56-2b60-4270-e01b-89b3f76d53f5"
      },
      "execution_count": 47,
      "outputs": [
        {
          "output_type": "execute_result",
          "data": {
            "text/plain": [
              "{'Q_CreationDate': Value(dtype='string', id=None),\n",
              " 'Title': Value(dtype='string', id=None),\n",
              " 'Question': Value(dtype='string', id=None),\n",
              " 'Answer': Value(dtype='string', id=None),\n",
              " 'Score': Value(dtype='float64', id=None),\n",
              " 'Is_accepted': Value(dtype='bool', id=None),\n",
              " 'N_answers': Value(dtype='int64', id=None),\n",
              " 'Q_Id': Value(dtype='int64', id=None)}"
            ]
          },
          "metadata": {},
          "execution_count": 47
        }
      ]
    },
    {
      "cell_type": "code",
      "source": [
        "!huggingface-cli login"
      ],
      "metadata": {
        "colab": {
          "base_uri": "https://localhost:8080/"
        },
        "id": "-J4nvzT27e2g",
        "outputId": "43ac4b72-9504-4ed4-9131-9c68fc4ddd81"
      },
      "execution_count": 48,
      "outputs": [
        {
          "output_type": "stream",
          "name": "stdout",
          "text": [
            "\n",
            "    _|    _|  _|    _|    _|_|_|    _|_|_|  _|_|_|  _|      _|    _|_|_|      _|_|_|_|    _|_|      _|_|_|  _|_|_|_|\n",
            "    _|    _|  _|    _|  _|        _|          _|    _|_|    _|  _|            _|        _|    _|  _|        _|\n",
            "    _|_|_|_|  _|    _|  _|  _|_|  _|  _|_|    _|    _|  _|  _|  _|  _|_|      _|_|_|    _|_|_|_|  _|        _|_|_|\n",
            "    _|    _|  _|    _|  _|    _|  _|    _|    _|    _|    _|_|  _|    _|      _|        _|    _|  _|        _|\n",
            "    _|    _|    _|_|      _|_|_|    _|_|_|  _|_|_|  _|      _|    _|_|_|      _|        _|    _|    _|_|_|  _|_|_|_|\n",
            "    \n",
            "    To login, `huggingface_hub` requires a token generated from https://huggingface.co/settings/tokens .\n",
            "Token: \n",
            "Add token as git credential? (Y/n) y\n",
            "Token is valid.\n",
            "\u001b[1m\u001b[31mCannot authenticate through git-credential as no helper is defined on your machine.\n",
            "You might have to re-authenticate when pushing to the Hugging Face Hub.\n",
            "Run the following command in your terminal in case you want to set the 'store' credential helper as default.\n",
            "\n",
            "git config --global credential.helper store\n",
            "\n",
            "Read https://git-scm.com/book/en/v2/Git-Tools-Credential-Storage for more details.\u001b[0m\n",
            "Token has not been saved to git credential helper.\n",
            "Your token has been saved to /root/.cache/huggingface/token\n",
            "Login successful\n"
          ]
        }
      ]
    },
    {
      "cell_type": "code",
      "source": [
        "!git lfs install"
      ],
      "metadata": {
        "colab": {
          "base_uri": "https://localhost:8080/"
        },
        "id": "KM1aQ7bG8d8O",
        "outputId": "46c0629e-9508-407d-a006-71c670f58abe"
      },
      "execution_count": 50,
      "outputs": [
        {
          "output_type": "stream",
          "name": "stdout",
          "text": [
            "Error: Failed to call git rev-parse --git-dir: exit status 128 \n",
            "Git LFS initialized.\n"
          ]
        }
      ]
    },
    {
      "cell_type": "code",
      "source": [
        "!git clone https://huggingface.co/datasets/namespace/Myashka/SO-Python_QA-API_Usage-tanh_score"
      ],
      "metadata": {
        "colab": {
          "base_uri": "https://localhost:8080/"
        },
        "id": "fOpUf9jc8o0I",
        "outputId": "6125f0cb-187e-4eb9-879c-2fcbdd763af7"
      },
      "execution_count": 51,
      "outputs": [
        {
          "output_type": "stream",
          "name": "stdout",
          "text": [
            "Cloning into 'SO-Python_QA-API_Usage-tanh_score'...\n",
            "fatal: could not read Username for 'https://huggingface.co': No such device or address\n"
          ]
        }
      ]
    },
    {
      "cell_type": "code",
      "source": [
        "!huggingface-cli repo create SO-Python_QA-API_Usage-tanh_score --type dataset"
      ],
      "metadata": {
        "colab": {
          "base_uri": "https://localhost:8080/"
        },
        "id": "qSYB1E8m8w-D",
        "outputId": "5a56bdbb-ebdf-49a5-b57a-466226da9774"
      },
      "execution_count": 52,
      "outputs": [
        {
          "output_type": "stream",
          "name": "stdout",
          "text": [
            "\u001b[90mgit version 2.25.1\u001b[0m\n",
            "\u001b[90mgit-lfs/2.9.2 (GitHub; linux amd64; go 1.13.5)\u001b[0m\n",
            "\n",
            "You are about to create \u001b[1mdatasets/Myashka/SO-Python_QA-API_Usage-tanh_score\u001b[0m\n",
            "Proceed? [Y/n] y\n",
            "409 Client Error: Conflict for url: https://huggingface.co/api/repos/create (Request ID: Root=1-6470a0b8-633ff1f556bdc89c4e5b0144)\n",
            "\n",
            "You already created this dataset repo\n",
            "\u001b[1m\u001b[31m{\"error\":\"You already created this dataset repo\",\"url\":\"https://huggingface.co/datasets/Myashka/SO-Python_QA-API_Usage-tanh_score\"}\u001b[0m\n"
          ]
        }
      ]
    },
    {
      "cell_type": "code",
      "source": [],
      "metadata": {
        "id": "i5tzHFqC8619"
      },
      "execution_count": null,
      "outputs": []
    }
  ]
}