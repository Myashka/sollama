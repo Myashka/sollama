{
 "cells": [
  {
   "cell_type": "code",
   "execution_count": 2,
   "metadata": {},
   "outputs": [],
   "source": [
    "import pandas as pd\n",
    "import numpy as np\n",
    "import matplotlib.pyplot as plt\n",
    "import seaborn as sns\n",
    "from sklearn import preprocessing\n",
    "from bs4 import BeautifulSoup"
   ]
  },
  {
   "cell_type": "code",
   "execution_count": 3,
   "metadata": {},
   "outputs": [],
   "source": [
    "def filter_column(df, column_name, text_to_filter, regex=False):\n",
    "    before_filtering = len(df)\n",
    "    df = df[\n",
    "        ~df[f\"{column_name}\"].str.contains(f\"{text_to_filter}\", na=False, regex=regex)\n",
    "    ]\n",
    "    after_filtering = len(df)\n",
    "    print(f\"Deleted {before_filtering-after_filtering} rows\")\n",
    "    return df"
   ]
  },
  {
   "cell_type": "code",
   "execution_count": 4,
   "metadata": {},
   "outputs": [],
   "source": [
    "qa = pd.read_csv(r\"/home/st-gorbatovski/sollama/data/processed/all_python_qa.csv\")"
   ]
  },
  {
   "cell_type": "code",
   "execution_count": 5,
   "metadata": {},
   "outputs": [],
   "source": [
    "qa = qa.rename(columns={'Body': 'Question'})"
   ]
  },
  {
   "cell_type": "code",
   "execution_count": 6,
   "metadata": {},
   "outputs": [
    {
     "name": "stdout",
     "output_type": "stream",
     "text": [
      "Deleted 48866 rows\n",
      "Deleted 123364 rows\n",
      "Deleted 152 rows\n",
      "Deleted 18182 rows\n"
     ]
    }
   ],
   "source": [
    "qa_filtered = filter_column(qa, \"Question\", \"</code></pre>\")\n",
    "\n",
    "qa_filtered = filter_column(qa_filtered, \"Answer\", \"</code></pre>\")\n",
    "qa_filtered = filter_column(qa_filtered, \"Answer\", \"<img\")\n",
    "qa_filtered = filter_column(qa_filtered, \"Answer\", \"<a href=\")"
   ]
  },
  {
   "cell_type": "code",
   "execution_count": 7,
   "metadata": {},
   "outputs": [
    {
     "data": {
      "text/html": [
       "<div>\n",
       "<style scoped>\n",
       "    .dataframe tbody tr th:only-of-type {\n",
       "        vertical-align: middle;\n",
       "    }\n",
       "\n",
       "    .dataframe tbody tr th {\n",
       "        vertical-align: top;\n",
       "    }\n",
       "\n",
       "    .dataframe thead th {\n",
       "        text-align: right;\n",
       "    }\n",
       "</style>\n",
       "<table border=\"1\" class=\"dataframe\">\n",
       "  <thead>\n",
       "    <tr style=\"text-align: right;\">\n",
       "      <th></th>\n",
       "      <th>Id</th>\n",
       "      <th>Score</th>\n",
       "      <th>ViewCount</th>\n",
       "      <th>AnswerCount</th>\n",
       "      <th>A_Id</th>\n",
       "      <th>A_Score</th>\n",
       "    </tr>\n",
       "  </thead>\n",
       "  <tbody>\n",
       "    <tr>\n",
       "      <th>count</th>\n",
       "      <td>2.566240e+05</td>\n",
       "      <td>256624.000000</td>\n",
       "      <td>2.566240e+05</td>\n",
       "      <td>256624.000000</td>\n",
       "      <td>2.566240e+05</td>\n",
       "      <td>256624.000000</td>\n",
       "    </tr>\n",
       "    <tr>\n",
       "      <th>mean</th>\n",
       "      <td>3.952718e+07</td>\n",
       "      <td>25.550740</td>\n",
       "      <td>3.030591e+04</td>\n",
       "      <td>3.414314</td>\n",
       "      <td>4.276149e+07</td>\n",
       "      <td>5.275843</td>\n",
       "    </tr>\n",
       "    <tr>\n",
       "      <th>std</th>\n",
       "      <td>2.839023e+07</td>\n",
       "      <td>177.877686</td>\n",
       "      <td>1.971810e+05</td>\n",
       "      <td>4.225573</td>\n",
       "      <td>2.761566e+07</td>\n",
       "      <td>54.226438</td>\n",
       "    </tr>\n",
       "    <tr>\n",
       "      <th>min</th>\n",
       "      <td>3.370000e+02</td>\n",
       "      <td>0.000000</td>\n",
       "      <td>6.000000e+00</td>\n",
       "      <td>1.000000</td>\n",
       "      <td>3.420000e+02</td>\n",
       "      <td>-42.000000</td>\n",
       "    </tr>\n",
       "    <tr>\n",
       "      <th>25%</th>\n",
       "      <td>8.371887e+06</td>\n",
       "      <td>0.000000</td>\n",
       "      <td>9.800000e+01</td>\n",
       "      <td>1.000000</td>\n",
       "      <td>1.331596e+07</td>\n",
       "      <td>0.000000</td>\n",
       "    </tr>\n",
       "    <tr>\n",
       "      <th>50%</th>\n",
       "      <td>4.178732e+07</td>\n",
       "      <td>1.000000</td>\n",
       "      <td>5.390000e+02</td>\n",
       "      <td>2.000000</td>\n",
       "      <td>4.879839e+07</td>\n",
       "      <td>1.000000</td>\n",
       "    </tr>\n",
       "    <tr>\n",
       "      <th>75%</th>\n",
       "      <td>7.019893e+07</td>\n",
       "      <td>4.000000</td>\n",
       "      <td>3.754000e+03</td>\n",
       "      <td>4.000000</td>\n",
       "      <td>7.087645e+07</td>\n",
       "      <td>2.000000</td>\n",
       "    </tr>\n",
       "    <tr>\n",
       "      <th>max</th>\n",
       "      <td>7.664636e+07</td>\n",
       "      <td>6790.000000</td>\n",
       "      <td>6.808733e+06</td>\n",
       "      <td>64.000000</td>\n",
       "      <td>7.664698e+07</td>\n",
       "      <td>5995.000000</td>\n",
       "    </tr>\n",
       "  </tbody>\n",
       "</table>\n",
       "</div>"
      ],
      "text/plain": [
       "                 Id          Score     ViewCount    AnswerCount          A_Id  \\\n",
       "count  2.566240e+05  256624.000000  2.566240e+05  256624.000000  2.566240e+05   \n",
       "mean   3.952718e+07      25.550740  3.030591e+04       3.414314  4.276149e+07   \n",
       "std    2.839023e+07     177.877686  1.971810e+05       4.225573  2.761566e+07   \n",
       "min    3.370000e+02       0.000000  6.000000e+00       1.000000  3.420000e+02   \n",
       "25%    8.371887e+06       0.000000  9.800000e+01       1.000000  1.331596e+07   \n",
       "50%    4.178732e+07       1.000000  5.390000e+02       2.000000  4.879839e+07   \n",
       "75%    7.019893e+07       4.000000  3.754000e+03       4.000000  7.087645e+07   \n",
       "max    7.664636e+07    6790.000000  6.808733e+06      64.000000  7.664698e+07   \n",
       "\n",
       "             A_Score  \n",
       "count  256624.000000  \n",
       "mean        5.275843  \n",
       "std        54.226438  \n",
       "min       -42.000000  \n",
       "25%         0.000000  \n",
       "50%         1.000000  \n",
       "75%         2.000000  \n",
       "max      5995.000000  "
      ]
     },
     "execution_count": 7,
     "metadata": {},
     "output_type": "execute_result"
    }
   ],
   "source": [
    "qa.describe()"
   ]
  },
  {
   "cell_type": "code",
   "execution_count": 59,
   "metadata": {},
   "outputs": [],
   "source": [
    "# qa_filtered.describe()"
   ]
  },
  {
   "cell_type": "markdown",
   "metadata": {},
   "source": [
    "## Scores distribution"
   ]
  },
  {
   "cell_type": "code",
   "execution_count": 8,
   "metadata": {},
   "outputs": [
    {
     "data": {
      "text/plain": [
       "count    256624.000000\n",
       "mean          5.275843\n",
       "std          54.226438\n",
       "min         -42.000000\n",
       "25%           0.000000\n",
       "50%           1.000000\n",
       "75%           2.000000\n",
       "max        5995.000000\n",
       "Name: A_Score, dtype: float64"
      ]
     },
     "execution_count": 8,
     "metadata": {},
     "output_type": "execute_result"
    }
   ],
   "source": [
    "qa['A_Score'].describe()"
   ]
  },
  {
   "cell_type": "code",
   "execution_count": 9,
   "metadata": {},
   "outputs": [
    {
     "name": "stdout",
     "output_type": "stream",
     "text": [
      "Lower bound\n",
      "-3.0\n",
      "Higher bound\n",
      "5.0\n",
      "--------------------------------------------------\n",
      "Count under the Max Abs Scaler\n",
      "226819\n",
      "Count under the lower bound\n",
      "376\n",
      "Count upper the highter bound\n",
      "29429\n"
     ]
    }
   ],
   "source": [
    "IQR = qa['A_Score'].quantile(0.75) - qa['A_Score'].quantile(0.15)\n",
    "print('Lower bound')\n",
    "print(qa['A_Score'].quantile(0.15) - 1.5*IQR)\n",
    "print('Higher bound')\n",
    "print(qa['A_Score'].quantile(0.73) + 1.5*IQR)\n",
    "print(\"-----\"*10)\n",
    "\n",
    "print(\"Count under the Max Abs Scaler\")\n",
    "print(len(qa[(qa['A_Score'] >= -3) & (qa['A_Score'] <= 5)]))\n",
    "print(\"Count under the lower bound\")\n",
    "print(len(qa[(qa['A_Score'] < -3)]))\n",
    "print(\"Count upper the highter bound\")\n",
    "print(len(qa[(qa['A_Score'] > 5)]))"
   ]
  },
  {
   "cell_type": "code",
   "execution_count": 8,
   "metadata": {},
   "outputs": [],
   "source": [
    "# IQR = qa_filtered['A_Score'].quantile(0.75) - qa_filtered['A_Score'].quantile(0.15)\n",
    "# print('Lower bound')\n",
    "# print(qa_filtered['A_Score'].quantile(0.15) - 1.5*IQR)\n",
    "# print('Higher bound')\n",
    "# print(qa_filtered['A_Score'].quantile(0.73) + 1.5*IQR)\n",
    "# print(\"-----\"*10)\n",
    "\n",
    "# print(\"Count under the Max Abs Scaler\")\n",
    "# print(len(qa_filtered[(qa_filtered['A_Score'] >= -3) & (qa_filtered['A_Score'] <= 5)]))\n",
    "# print(\"Count under the lower bound\")\n",
    "# print(len(qa_filtered[(qa_filtered['A_Score'] < -3)]))\n",
    "# print(\"Count upper the highter bound\")\n",
    "# print(len(qa_filtered[(qa_filtered['A_Score'] > 5)]))"
   ]
  },
  {
   "cell_type": "code",
   "execution_count": 10,
   "metadata": {},
   "outputs": [],
   "source": [
    "qa_bounds = qa[(qa['A_Score'] >= -3) & (qa['A_Score'] <= 5)]\n",
    "# qa_filtered_bounds = qa_filtered[(qa_filtered['A_Score'] >= -3) & (qa_filtered['A_Score'] <= 5)]"
   ]
  },
  {
   "cell_type": "code",
   "execution_count": 11,
   "metadata": {},
   "outputs": [],
   "source": [
    "down_bounds = qa[(qa['A_Score'] < -3)]\n",
    "up_bounds = qa[(qa['A_Score'] > 5)]"
   ]
  },
  {
   "cell_type": "code",
   "execution_count": 20,
   "metadata": {},
   "outputs": [
    {
     "data": {
      "image/png": "[encoded data removed]",
      "text/plain": [
       "<Figure size 1200x400 with 3 Axes>"
      ]
     },
     "metadata": {},
     "output_type": "display_data"
    }
   ],
   "source": [
    "import matplotlib.pyplot as plt\n",
    "\n",
    "fig, axes = plt.subplots(1, 3, figsize=(12, 4))\n",
    "\n",
    "# График 1\n",
    "axes[0].hist(qa_bounds[\"A_Score\"], bins=50)\n",
    "axes[0].set_title(\"Histogram of A_Score\")\n",
    "axes[0].set_xlabel(\"A_Score\")\n",
    "axes[0].set_ylabel(\"Frequency\")\n",
    "\n",
    "# График 2\n",
    "axes[1].hist(qa_bounds['A_Score'] / qa_bounds.AnswerCount, bins=50)\n",
    "axes[1].set_title(\"Histogram of A_Score / AnswerCount\")\n",
    "axes[1].set_xlabel(\"A_Score / AnswerCount\")\n",
    "axes[1].set_ylabel(\"Frequency\")\n",
    "\n",
    "# График 3\n",
    "axes[2].hist(qa_bounds['A_Score'] / qa_bounds.ViewCount, bins=50)\n",
    "axes[2].set_title(\"Histogram of A_Score / ViewCount\")\n",
    "axes[2].set_xlabel(\"A_Score / ViewCount\")\n",
    "axes[2].set_ylabel(\"Frequency\")\n",
    "\n",
    "plt.tight_layout()\n",
    "plt.show()\n"
   ]
  },
  {
   "cell_type": "code",
   "execution_count": 64,
   "metadata": {},
   "outputs": [],
   "source": [
    "# import matplotlib.pyplot as plt\n",
    "\n",
    "# fig, axes = plt.subplots(1, 3, figsize=(12, 4))\n",
    "\n",
    "# # График 1\n",
    "# axes[0].hist(qa_filtered_bounds[\"A_Score\"], bins=50)\n",
    "# axes[0].set_title(\"Histogram of A_Score\")\n",
    "# axes[0].set_xlabel(\"A_Score\")\n",
    "# axes[0].set_ylabel(\"Frequency\")\n",
    "\n",
    "# # График 2\n",
    "# axes[1].hist(qa_filtered_bounds['A_Score'] / qa_filtered_bounds.AnswerCount, bins=50)\n",
    "# axes[1].set_title(\"Histogram of A_Score / AnswerCount\")\n",
    "# axes[1].set_xlabel(\"A_Score / AnswerCount\")\n",
    "# axes[1].set_ylabel(\"Frequency\")\n",
    "\n",
    "# # График 3\n",
    "# axes[2].hist(qa_filtered_bounds['A_Score'] / qa_filtered_bounds.ViewCount, bins=50)\n",
    "# axes[2].set_title(\"Histogram of A_Score / ViewCount\")\n",
    "# axes[2].set_xlabel(\"A_Score / ViewCount\")\n",
    "# axes[2].set_ylabel(\"Frequency\")\n",
    "\n",
    "# plt.tight_layout()\n",
    "# plt.show()\n"
   ]
  },
  {
   "cell_type": "code",
   "execution_count": 12,
   "metadata": {},
   "outputs": [],
   "source": [
    "m_a_scaler = preprocessing.MaxAbsScaler()"
   ]
  },
  {
   "cell_type": "code",
   "execution_count": 13,
   "metadata": {},
   "outputs": [],
   "source": [
    "a_score_scaled = m_a_scaler.fit_transform(\n",
    "    qa_bounds[\"A_Score\"].values.reshape(-1, 1)\n",
    ").reshape(1, -1)[0]\n",
    "a_score_scaled_dev = m_a_scaler.fit_transform(\n",
    "    (qa_bounds[\"A_Score\"] / qa_bounds.AnswerCount).values.reshape(-1, 1)\n",
    ").reshape(1, -1)[0]"
   ]
  },
  {
   "cell_type": "code",
   "execution_count": 13,
   "metadata": {},
   "outputs": [],
   "source": [
    "# filtered_a_score_scaled = m_a_scaler.fit_transform(\n",
    "#     qa_filtered_bounds[\"A_Score\"].values.reshape(-1, 1)\n",
    "# ).reshape(1, -1)[0]\n",
    "# filtered_a_score_scaled_dev = m_a_scaler.fit_transform(\n",
    "#     (qa_filtered_bounds[\"A_Score\"] / qa_filtered_bounds.AnswerCount).values.reshape(-1, 1)\n",
    "# ).reshape(1, -1)[0]"
   ]
  },
  {
   "cell_type": "code",
   "execution_count": 14,
   "metadata": {},
   "outputs": [
    {
     "name": "stderr",
     "output_type": "stream",
     "text": [
      "/tmp/ipykernel_2988810/4061290662.py:1: SettingWithCopyWarning: \n",
      "A value is trying to be set on a copy of a slice from a DataFrame.\n",
      "Try using .loc[row_indexer,col_indexer] = value instead\n",
      "\n",
      "See the caveats in the documentation: https://pandas.pydata.org/pandas-docs/stable/user_guide/indexing.html#returning-a-view-versus-a-copy\n",
      "  qa_bounds['A_Score_scaled'] = a_score_scaled\n",
      "/tmp/ipykernel_2988810/4061290662.py:2: SettingWithCopyWarning: \n",
      "A value is trying to be set on a copy of a slice from a DataFrame.\n",
      "Try using .loc[row_indexer,col_indexer] = value instead\n",
      "\n",
      "See the caveats in the documentation: https://pandas.pydata.org/pandas-docs/stable/user_guide/indexing.html#returning-a-view-versus-a-copy\n",
      "  qa_bounds['A_Score_scaled_dev'] = a_score_scaled_dev\n",
      "/tmp/ipykernel_2988810/4061290662.py:4: SettingWithCopyWarning: \n",
      "A value is trying to be set on a copy of a slice from a DataFrame.\n",
      "Try using .loc[row_indexer,col_indexer] = value instead\n",
      "\n",
      "See the caveats in the documentation: https://pandas.pydata.org/pandas-docs/stable/user_guide/indexing.html#returning-a-view-versus-a-copy\n",
      "  qa_bounds['A_Score_scaled_tanh'] = np.tanh(a_score_scaled)\n",
      "/tmp/ipykernel_2988810/4061290662.py:5: SettingWithCopyWarning: \n",
      "A value is trying to be set on a copy of a slice from a DataFrame.\n",
      "Try using .loc[row_indexer,col_indexer] = value instead\n",
      "\n",
      "See the caveats in the documentation: https://pandas.pydata.org/pandas-docs/stable/user_guide/indexing.html#returning-a-view-versus-a-copy\n",
      "  qa_bounds['A_Score_scaled_dev_tanh'] = np.tanh(a_score_scaled_dev)\n"
     ]
    }
   ],
   "source": [
    "qa_bounds['A_Score_scaled'] = a_score_scaled\n",
    "qa_bounds['A_Score_scaled_dev'] = a_score_scaled_dev\n",
    "\n",
    "qa_bounds['A_Score_scaled_tanh'] = np.tanh(a_score_scaled)\n",
    "qa_bounds['A_Score_scaled_dev_tanh'] = np.tanh(a_score_scaled_dev)"
   ]
  },
  {
   "cell_type": "code",
   "execution_count": 15,
   "metadata": {},
   "outputs": [],
   "source": [
    "# qa_filtered_bounds['A_Score_scaled'] = filtered_a_score_scaled\n",
    "# qa_filtered_bounds['A_Score_scaled_dev'] = filtered_a_score_scaled_dev\n",
    "\n",
    "# qa_filtered_bounds['A_Score_scaled_tanh'] = np.tanh(filtered_a_score_scaled)\n",
    "# qa_filtered_bounds['A_Score_scaled_dev_tanh'] = np.tanh(filtered_a_score_scaled_dev)"
   ]
  },
  {
   "cell_type": "code",
   "execution_count": 24,
   "metadata": {},
   "outputs": [
    {
     "data": {
      "image/png": "[encoded data removed]",
      "text/plain": [
       "<Figure size 2000x1600 with 4 Axes>"
      ]
     },
     "metadata": {},
     "output_type": "display_data"
    }
   ],
   "source": [
    "import matplotlib.pyplot as plt\n",
    "\n",
    "fig, axes = plt.subplots(2, 2, figsize=(20, 16))\n",
    "\n",
    "# График 1\n",
    "axes[0, 0].hist(qa_bounds['A_Score_scaled'], bins=50)\n",
    "axes[0, 0].set_title(\"Histogram of A_Score_scaled\")\n",
    "axes[0, 0].set_xlabel(\"A_Score\")\n",
    "axes[0, 0].set_ylabel(\"Frequency\")\n",
    "\n",
    "# График 2\n",
    "axes[1, 0].hist(qa_bounds['A_Score_scaled_dev'], bins=50)\n",
    "axes[1, 0].set_title(\"Histogram of A_Score_scaled_dev\")\n",
    "axes[1, 0].set_xlabel(\"A_Score / AnswerCount\")\n",
    "axes[1, 0].set_ylabel(\"Frequency\")\n",
    "\n",
    "axes[0, 1].hist(qa_bounds['A_Score_scaled_tanh'], bins=50)\n",
    "axes[0, 1].set_title(\"Histogram of A_Score_scaled_tanh\")\n",
    "axes[0, 1].set_xlabel(\"A_Score\")\n",
    "axes[0, 1].set_ylabel(\"Frequency\")\n",
    "\n",
    "# График 2\n",
    "axes[1, 1].hist(qa_bounds['A_Score_scaled_dev_tanh'], bins=50)\n",
    "axes[1, 1].set_title(\"Histogram of A_Score_scaled_dev_tanh\")\n",
    "axes[1, 1].set_xlabel(\"A_Score / AnswerCount\")\n",
    "axes[1, 1].set_ylabel(\"Frequency\")\n",
    "\n",
    "plt.tight_layout()\n",
    "plt.show()\n"
   ]
  },
  {
   "cell_type": "code",
   "execution_count": 15,
   "metadata": {},
   "outputs": [],
   "source": [
    "del qa_bounds[\"A_Score_scaled\"], qa_bounds[\"A_Score_scaled_dev\"], qa_bounds[\"A_Score_scaled_tanh\"]"
   ]
  },
  {
   "cell_type": "code",
   "execution_count": 16,
   "metadata": {},
   "outputs": [
    {
     "name": "stderr",
     "output_type": "stream",
     "text": [
      "/tmp/ipykernel_2988810/2404074860.py:1: SettingWithCopyWarning: \n",
      "A value is trying to be set on a copy of a slice from a DataFrame.\n",
      "Try using .loc[row_indexer,col_indexer] = value instead\n",
      "\n",
      "See the caveats in the documentation: https://pandas.pydata.org/pandas-docs/stable/user_guide/indexing.html#returning-a-view-versus-a-copy\n",
      "  down_bounds[\"A_Score_scaled_dev_tanh\"] = -1\n",
      "/tmp/ipykernel_2988810/2404074860.py:2: SettingWithCopyWarning: \n",
      "A value is trying to be set on a copy of a slice from a DataFrame.\n",
      "Try using .loc[row_indexer,col_indexer] = value instead\n",
      "\n",
      "See the caveats in the documentation: https://pandas.pydata.org/pandas-docs/stable/user_guide/indexing.html#returning-a-view-versus-a-copy\n",
      "  up_bounds[\"A_Score_scaled_dev_tanh\"] = 1\n"
     ]
    }
   ],
   "source": [
    "down_bounds[\"A_Score_scaled_dev_tanh\"] = -1\n",
    "up_bounds[\"A_Score_scaled_dev_tanh\"] = 1"
   ]
  },
  {
   "cell_type": "code",
   "execution_count": 17,
   "metadata": {},
   "outputs": [],
   "source": [
    "qa_scaled = pd.concat([down_bounds, qa_bounds, up_bounds], axis=0)"
   ]
  },
  {
   "cell_type": "code",
   "execution_count": 18,
   "metadata": {},
   "outputs": [],
   "source": [
    "qa_scaled = qa_scaled.sort_values('CreationDate')"
   ]
  },
  {
   "cell_type": "code",
   "execution_count": 19,
   "metadata": {},
   "outputs": [
    {
     "name": "stderr",
     "output_type": "stream",
     "text": [
      "/tmp/ipykernel_2988810/2306027139.py:1: SettingWithCopyWarning: \n",
      "A value is trying to be set on a copy of a slice from a DataFrame\n",
      "\n",
      "See the caveats in the documentation: https://pandas.pydata.org/pandas-docs/stable/user_guide/indexing.html#returning-a-view-versus-a-copy\n",
      "  qa_scaled[\"A_Score_scaled_dev_tanh\"][qa_scaled['is_accepted'] == True] = 1.2\n"
     ]
    }
   ],
   "source": [
    "qa_scaled[\"A_Score_scaled_dev_tanh\"][qa_scaled['is_accepted'] == True] = 1.2"
   ]
  },
  {
   "cell_type": "code",
   "execution_count": 20,
   "metadata": {},
   "outputs": [
    {
     "data": {
      "text/plain": [
       "1.2"
      ]
     },
     "execution_count": 20,
     "metadata": {},
     "output_type": "execute_result"
    }
   ],
   "source": [
    "max(qa_scaled['A_Score_scaled_dev_tanh'])"
   ]
  },
  {
   "cell_type": "code",
   "execution_count": 21,
   "metadata": {},
   "outputs": [
    {
     "name": "stdout",
     "output_type": "stream",
     "text": [
      "Deleted 48866 rows\n",
      "Deleted 0 rows\n",
      "Deleted 0 rows\n",
      "Deleted 123364 rows\n",
      "Deleted 152 rows\n",
      "Deleted 18182 rows\n",
      "66060\n"
     ]
    }
   ],
   "source": [
    "qa_scaled_filtered = filter_column(qa_scaled, \"Question\", \"</code></pre>\")\n",
    "qa_scaled_filtered = filter_column(qa_scaled_filtered, \"Question\", \"<img\")\n",
    "qa_scaled_filtered = filter_column(qa_scaled_filtered, \"Question\", \"<a href=\")\n",
    "\n",
    "qa_scaled_filtered = filter_column(qa_scaled_filtered, \"Answer\", \"</code></pre>\")\n",
    "qa_scaled_filtered = filter_column(qa_scaled_filtered, \"Answer\", \"<img\")\n",
    "qa_scaled_filtered = filter_column(qa_scaled_filtered, \"Answer\", \"<a href=\")\n",
    "print(len(qa_scaled_filtered))"
   ]
  },
  {
   "cell_type": "code",
   "execution_count": 22,
   "metadata": {},
   "outputs": [
    {
     "name": "stderr",
     "output_type": "stream",
     "text": [
      "/tmp/ipykernel_2988810/3253689130.py:5: MarkupResemblesLocatorWarning: The input looks more like a filename than markup. You may want to open this file and pass the filehandle into Beautiful Soup.\n",
      "  lambda x: BeautifulSoup(x, \"html.parser\").get_text().strip()\n"
     ]
    }
   ],
   "source": [
    "qa_scaled_filtered[\"Question\"] = qa_scaled_filtered[\"Question\"].apply(\n",
    "    lambda x: BeautifulSoup(x, \"html.parser\").get_text().strip()\n",
    ")\n",
    "qa_scaled_filtered[\"Title\"] = qa_scaled_filtered[\"Title\"].apply(\n",
    "    lambda x: BeautifulSoup(x, \"html.parser\").get_text().strip()\n",
    ")\n",
    "qa_scaled_filtered[\"Answer\"] = qa_scaled_filtered[\"Answer\"].apply(\n",
    "    lambda x: BeautifulSoup(x, \"html.parser\").get_text().strip()\n",
    ")"
   ]
  },
  {
   "cell_type": "code",
   "execution_count": 23,
   "metadata": {},
   "outputs": [],
   "source": [
    "qa_scaled_filtered = qa_scaled_filtered.rename(\n",
    "    columns={\n",
    "        \"Id\": \"Q_Id\",\n",
    "        \"Score\": \"Q_Score\",\n",
    "        \"A_Score_scaled_dev_tanh\": \"Score\",\n",
    "        \"A_Score\": \"Users Score\",\n",
    "    }\n",
    ")"
   ]
  },
  {
   "cell_type": "code",
   "execution_count": 24,
   "metadata": {},
   "outputs": [],
   "source": [
    "qa_scaled_filtered = qa_scaled_filtered.reset_index(drop=True)"
   ]
  },
  {
   "cell_type": "code",
   "execution_count": 25,
   "metadata": {},
   "outputs": [],
   "source": [
    "qa_scaled_filtered['Available Count'] = qa_scaled_filtered['Q_Id'].map(qa_scaled_filtered['Q_Id'].value_counts())"
   ]
  },
  {
   "cell_type": "code",
   "execution_count": 28,
   "metadata": {},
   "outputs": [],
   "source": [
    "qa_scaled_filtered['CreationDate'] = pd.to_datetime(qa_scaled_filtered['CreationDate'], format='mixed')"
   ]
  },
  {
   "cell_type": "code",
   "execution_count": 35,
   "metadata": {},
   "outputs": [
    {
     "data": {
      "text/plain": [
       "pandas._libs.tslibs.timestamps.Timestamp"
      ]
     },
     "execution_count": 35,
     "metadata": {},
     "output_type": "execute_result"
    }
   ],
   "source": [
    "type(qa_scaled_filtered['CreationDate'].unique()[2])"
   ]
  },
  {
   "cell_type": "code",
   "execution_count": 48,
   "metadata": {},
   "outputs": [],
   "source": [
    "qa_scaled_filtered['CreationDate'] = qa_scaled_filtered['CreationDate'].apply(lambda x: x.floor('T'))"
   ]
  },
  {
   "cell_type": "code",
   "execution_count": 50,
   "metadata": {},
   "outputs": [],
   "source": [
    "qa_scaled_filtered = qa_scaled_filtered.sort_values('CreationDate', ascending=True)"
   ]
  },
  {
   "cell_type": "code",
   "execution_count": 51,
   "metadata": {},
   "outputs": [],
   "source": [
    "grouped = qa_scaled_filtered.groupby('Q_Id').apply(lambda x: x)\n",
    "\n",
    "# разделение на тестовый, валидационный и обучающий наборы данных\n",
    "test = grouped.iloc[-1000:]\n",
    "val = grouped.iloc[-1500:-1000]\n",
    "train = grouped.iloc[:-1500]"
   ]
  },
  {
   "cell_type": "code",
   "execution_count": 54,
   "metadata": {},
   "outputs": [],
   "source": [
    "test.to_json('test.json', orient='records', date_format='iso')\n",
    "train.to_json('train.json', orient='records', date_format='iso')\n",
    "val.to_json('validation.json', orient='records', date_format='iso')"
   ]
  },
  {
   "cell_type": "code",
   "execution_count": 27,
   "metadata": {},
   "outputs": [],
   "source": [
    "qa_scaled_filtered.to_csv(\"/home/st-gorbatovski/sollama/data/processed/tanh_score/filtered_python_qa_no_code.csv\", index=False)"
   ]
  },
  {
   "cell_type": "code",
   "execution_count": 71,
   "metadata": {},
   "outputs": [],
   "source": [
    "# import matplotlib.pyplot as plt\n",
    "\n",
    "# fig, axes = plt.subplots(2, 2, figsize=(20, 16))\n",
    "\n",
    "# # График 1\n",
    "# axes[0, 0].hist(qa_filtered_bounds['A_Score_scaled'], bins=50)\n",
    "# axes[0, 0].set_title(\"Histogram of A_Score_scaled\")\n",
    "# axes[0, 0].set_xlabel(\"A_Score\")\n",
    "# axes[0, 0].set_ylabel(\"Frequency\")\n",
    "\n",
    "# # График 2\n",
    "# axes[1, 0].hist(qa_filtered_bounds['A_Score_scaled_dev'], bins=50)\n",
    "# axes[1, 0].set_title(\"Histogram of A_Score_scaled_dev\")\n",
    "# axes[1, 0].set_xlabel(\"A_Score / AnswerCount\")\n",
    "# axes[1, 0].set_ylabel(\"Frequency\")\n",
    "\n",
    "# axes[0, 1].hist(qa_filtered_bounds['A_Score_scaled_tanh'], bins=50)\n",
    "# axes[0, 1].set_title(\"Histogram of A_Score_scaled_tanh\")\n",
    "# axes[0, 1].set_xlabel(\"A_Score\")\n",
    "# axes[0, 1].set_ylabel(\"Frequency\")\n",
    "\n",
    "# # График 2\n",
    "# axes[1, 1].hist(qa_filtered_bounds['A_Score_scaled_dev_tanh'], bins=50)\n",
    "# axes[1, 1].set_title(\"Histogram of A_Score_scaled_dev_tanh\")\n",
    "# axes[1, 1].set_xlabel(\"A_Score / AnswerCount\")\n",
    "# axes[1, 1].set_ylabel(\"Frequency\")\n",
    "\n",
    "# plt.tight_layout()\n",
    "# plt.show()\n"
   ]
  },
  {
   "cell_type": "code",
   "execution_count": 89,
   "metadata": {},
   "outputs": [],
   "source": [
    "# qa_bounds_filtered = filter_column(qa_bounds, \"Questions\", \"</code></pre>\")\n",
    "\n",
    "# qa_bounds_filtered = filter_column(qa_bounds_filtered, \"Answer\", \"</code></pre>\")\n",
    "# qa_bounds_filtered = filter_column(qa_bounds_filtered, \"Answer\", \"<img\")\n",
    "# qa_bounds_filtered = filter_column(qa_bounds_filtered, \"Answer\", \"<a href=\")"
   ]
  },
  {
   "cell_type": "code",
   "execution_count": 88,
   "metadata": {},
   "outputs": [],
   "source": [
    "# import matplotlib.pyplot as plt\n",
    "\n",
    "# fig, axes = plt.subplots(2, 2, figsize=(20, 16))\n",
    "\n",
    "# # График 1\n",
    "# axes[0, 0].hist(qa_bounds_filtered['A_Score_scaled'], bins=50)\n",
    "# axes[0, 0].set_title(\"Histogram of A_Score_scaled\")\n",
    "# axes[0, 0].set_xlabel(\"A_Score\")\n",
    "# axes[0, 0].set_ylabel(\"Frequency\")\n",
    "\n",
    "# # График 2\n",
    "# axes[1, 0].hist(qa_bounds_filtered['A_Score_scaled_dev'], bins=50)\n",
    "# axes[1, 0].set_title(\"Histogram of A_Score_scaled_dev\")\n",
    "# axes[1, 0].set_xlabel(\"A_Score / AnswerCount\")\n",
    "# axes[1, 0].set_ylabel(\"Frequency\")\n",
    "\n",
    "# axes[0, 1].hist(qa_bounds_filtered['A_Score_scaled_tanh'], bins=50)\n",
    "# axes[0, 1].set_title(\"Histogram of A_Score_scaled_tanh\")\n",
    "# axes[0, 1].set_xlabel(\"A_Score\")\n",
    "# axes[0, 1].set_ylabel(\"Frequency\")\n",
    "\n",
    "# # График 2\n",
    "# axes[1, 1].hist(qa_bounds_filtered['A_Score_scaled_dev_tanh'], bins=50)\n",
    "# axes[1, 1].set_title(\"Histogram of A_Score_scaled_dev_tanh\")\n",
    "# axes[1, 1].set_xlabel(\"A_Score / AnswerCount\")\n",
    "# axes[1, 1].set_ylabel(\"Frequency\")\n",
    "\n",
    "# plt.tight_layout()\n",
    "# plt.show()\n"
   ]
  },
  {
   "cell_type": "code",
   "execution_count": null,
   "metadata": {},
   "outputs": [],
   "source": []
  }
 ],
 "metadata": {
  "kernelspec": {
   "display_name": "gorbatovski_env",
   "language": "python",
   "name": "python3"
  },
  "language_info": {
   "codemirror_mode": {
    "name": "ipython",
    "version": 3
   },
   "file_extension": ".py",
   "mimetype": "text/x-python",
   "name": "python",
   "nbconvert_exporter": "python",
   "pygments_lexer": "ipython3",
   "version": "3.10.11"
  },
  "orig_nbformat": 4
 },
 "nbformat": 4,
 "nbformat_minor": 2
}
